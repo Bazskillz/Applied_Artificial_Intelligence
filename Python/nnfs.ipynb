{
 "cells": [
  {
   "cell_type": "markdown",
   "source": [
    "  Imports\n"
   ],
   "metadata": {
    "collapsed": false,
    "pycharm": {
     "name": "#%% md\n"
    }
   }
  },
  {
   "cell_type": "code",
   "execution_count": 32,
   "metadata": {
    "collapsed": true
   },
   "outputs": [],
   "source": [
    "# Import sklearn for matrix and data preprocessing\n",
    "from sklearn.metrics import confusion_matrix\n",
    "from sklearn.preprocessing import StandardScaler\n",
    "from sklearn.model_selection import train_test_split\n",
    "\n",
    "import numpy as np\n",
    "import pandas as pd\n",
    "import seaborn as sns\n",
    "import matplotlib.pyplot as plt"
   ]
  },
  {
   "cell_type": "code",
   "execution_count": 33,
   "outputs": [
    {
     "name": "stdout",
     "output_type": "stream",
     "text": [
      "(569, 33)\n"
     ]
    },
    {
     "data": {
      "text/plain": "         id diagnosis  radius_mean  texture_mean  perimeter_mean  area_mean  \\\n564  926424         M        21.56         22.39          142.00     1479.0   \n565  926682         M        20.13         28.25          131.20     1261.0   \n566  926954         M        16.60         28.08          108.30      858.1   \n567  927241         M        20.60         29.33          140.10     1265.0   \n568   92751         B         7.76         24.54           47.92      181.0   \n\n     smoothness_mean  compactness_mean  concavity_mean  concave points_mean  \\\n564          0.11100           0.11590         0.24390              0.13890   \n565          0.09780           0.10340         0.14400              0.09791   \n566          0.08455           0.10230         0.09251              0.05302   \n567          0.11780           0.27700         0.35140              0.15200   \n568          0.05263           0.04362         0.00000              0.00000   \n\n     ...  texture_worst  perimeter_worst  area_worst  smoothness_worst  \\\n564  ...          26.40           166.10      2027.0           0.14100   \n565  ...          38.25           155.00      1731.0           0.11660   \n566  ...          34.12           126.70      1124.0           0.11390   \n567  ...          39.42           184.60      1821.0           0.16500   \n568  ...          30.37            59.16       268.6           0.08996   \n\n     compactness_worst  concavity_worst  concave points_worst  symmetry_worst  \\\n564            0.21130           0.4107                0.2216          0.2060   \n565            0.19220           0.3215                0.1628          0.2572   \n566            0.30940           0.3403                0.1418          0.2218   \n567            0.86810           0.9387                0.2650          0.4087   \n568            0.06444           0.0000                0.0000          0.2871   \n\n     fractal_dimension_worst  Unnamed: 32  \n564                  0.07115          NaN  \n565                  0.06637          NaN  \n566                  0.07820          NaN  \n567                  0.12400          NaN  \n568                  0.07039          NaN  \n\n[5 rows x 33 columns]",
      "text/html": "<div>\n<style scoped>\n    .dataframe tbody tr th:only-of-type {\n        vertical-align: middle;\n    }\n\n    .dataframe tbody tr th {\n        vertical-align: top;\n    }\n\n    .dataframe thead th {\n        text-align: right;\n    }\n</style>\n<table border=\"1\" class=\"dataframe\">\n  <thead>\n    <tr style=\"text-align: right;\">\n      <th></th>\n      <th>id</th>\n      <th>diagnosis</th>\n      <th>radius_mean</th>\n      <th>texture_mean</th>\n      <th>perimeter_mean</th>\n      <th>area_mean</th>\n      <th>smoothness_mean</th>\n      <th>compactness_mean</th>\n      <th>concavity_mean</th>\n      <th>concave points_mean</th>\n      <th>...</th>\n      <th>texture_worst</th>\n      <th>perimeter_worst</th>\n      <th>area_worst</th>\n      <th>smoothness_worst</th>\n      <th>compactness_worst</th>\n      <th>concavity_worst</th>\n      <th>concave points_worst</th>\n      <th>symmetry_worst</th>\n      <th>fractal_dimension_worst</th>\n      <th>Unnamed: 32</th>\n    </tr>\n  </thead>\n  <tbody>\n    <tr>\n      <th>564</th>\n      <td>926424</td>\n      <td>M</td>\n      <td>21.56</td>\n      <td>22.39</td>\n      <td>142.00</td>\n      <td>1479.0</td>\n      <td>0.11100</td>\n      <td>0.11590</td>\n      <td>0.24390</td>\n      <td>0.13890</td>\n      <td>...</td>\n      <td>26.40</td>\n      <td>166.10</td>\n      <td>2027.0</td>\n      <td>0.14100</td>\n      <td>0.21130</td>\n      <td>0.4107</td>\n      <td>0.2216</td>\n      <td>0.2060</td>\n      <td>0.07115</td>\n      <td>NaN</td>\n    </tr>\n    <tr>\n      <th>565</th>\n      <td>926682</td>\n      <td>M</td>\n      <td>20.13</td>\n      <td>28.25</td>\n      <td>131.20</td>\n      <td>1261.0</td>\n      <td>0.09780</td>\n      <td>0.10340</td>\n      <td>0.14400</td>\n      <td>0.09791</td>\n      <td>...</td>\n      <td>38.25</td>\n      <td>155.00</td>\n      <td>1731.0</td>\n      <td>0.11660</td>\n      <td>0.19220</td>\n      <td>0.3215</td>\n      <td>0.1628</td>\n      <td>0.2572</td>\n      <td>0.06637</td>\n      <td>NaN</td>\n    </tr>\n    <tr>\n      <th>566</th>\n      <td>926954</td>\n      <td>M</td>\n      <td>16.60</td>\n      <td>28.08</td>\n      <td>108.30</td>\n      <td>858.1</td>\n      <td>0.08455</td>\n      <td>0.10230</td>\n      <td>0.09251</td>\n      <td>0.05302</td>\n      <td>...</td>\n      <td>34.12</td>\n      <td>126.70</td>\n      <td>1124.0</td>\n      <td>0.11390</td>\n      <td>0.30940</td>\n      <td>0.3403</td>\n      <td>0.1418</td>\n      <td>0.2218</td>\n      <td>0.07820</td>\n      <td>NaN</td>\n    </tr>\n    <tr>\n      <th>567</th>\n      <td>927241</td>\n      <td>M</td>\n      <td>20.60</td>\n      <td>29.33</td>\n      <td>140.10</td>\n      <td>1265.0</td>\n      <td>0.11780</td>\n      <td>0.27700</td>\n      <td>0.35140</td>\n      <td>0.15200</td>\n      <td>...</td>\n      <td>39.42</td>\n      <td>184.60</td>\n      <td>1821.0</td>\n      <td>0.16500</td>\n      <td>0.86810</td>\n      <td>0.9387</td>\n      <td>0.2650</td>\n      <td>0.4087</td>\n      <td>0.12400</td>\n      <td>NaN</td>\n    </tr>\n    <tr>\n      <th>568</th>\n      <td>92751</td>\n      <td>B</td>\n      <td>7.76</td>\n      <td>24.54</td>\n      <td>47.92</td>\n      <td>181.0</td>\n      <td>0.05263</td>\n      <td>0.04362</td>\n      <td>0.00000</td>\n      <td>0.00000</td>\n      <td>...</td>\n      <td>30.37</td>\n      <td>59.16</td>\n      <td>268.6</td>\n      <td>0.08996</td>\n      <td>0.06444</td>\n      <td>0.0000</td>\n      <td>0.0000</td>\n      <td>0.2871</td>\n      <td>0.07039</td>\n      <td>NaN</td>\n    </tr>\n  </tbody>\n</table>\n<p>5 rows × 33 columns</p>\n</div>"
     },
     "execution_count": 33,
     "metadata": {},
     "output_type": "execute_result"
    }
   ],
   "source": [
    "# Load the data\n",
    "df = pd.read_csv('../dataset/breastcancer.csv')\n",
    "\n",
    "# Check dims\n",
    "print(df.shape)\n",
    "\n",
    "df.tail()"
   ],
   "metadata": {
    "collapsed": false,
    "pycharm": {
     "name": "#%%\n"
    }
   }
  },
  {
   "cell_type": "markdown",
   "source": [
    "We kunnen zien dat we 569 rows hebben met 33 columns. Als we snel door de data kijken kunnen we zien dat de laatste column onnodige is en die zullen we dan ook deleten"
   ],
   "metadata": {
    "collapsed": false,
    "pycharm": {
     "name": "#%% md\n"
    }
   }
  },
  {
   "cell_type": "code",
   "execution_count": 34,
   "outputs": [],
   "source": [
    "del df['Unnamed: 32']"
   ],
   "metadata": {
    "collapsed": false,
    "pycharm": {
     "name": "#%%\n"
    }
   }
  },
  {
   "cell_type": "markdown",
   "source": [
    "Ons label \"diagnosis\" moet worden omgezet, categorical naar numeric."
   ],
   "metadata": {
    "collapsed": false
   }
  },
  {
   "cell_type": "code",
   "execution_count": 35,
   "outputs": [
    {
     "data": {
      "text/plain": "0      1\n1      1\n2      1\n3      1\n4      1\n      ..\n564    1\n565    1\n566    1\n567    1\n568    0\nName: diagnosis, Length: 569, dtype: int64"
     },
     "execution_count": 35,
     "metadata": {},
     "output_type": "execute_result"
    }
   ],
   "source": [
    "encoding_dict = {\n",
    "    \"diagnosis\": {  \"M\": 1,\n",
    "                    \"B\": 0\n",
    "    }\n",
    "}\n",
    "\n",
    "df = df.replace(encoding_dict)\n",
    "\n",
    "df['diagnosis']"
   ],
   "metadata": {
    "collapsed": false,
    "pycharm": {
     "name": "#%%\n"
    }
   }
  },
  {
   "cell_type": "markdown",
   "source": [
    "Vervolgens verdelen we de features en label."
   ],
   "metadata": {
    "collapsed": false,
    "pycharm": {
     "name": "#%% md\n"
    }
   }
  },
  {
   "cell_type": "code",
   "execution_count": 36,
   "outputs": [
    {
     "data": {
      "text/plain": "array([[1.799e+01, 1.038e+01, 1.228e+02, ..., 2.654e-01, 4.601e-01,\n        1.189e-01],\n       [2.057e+01, 1.777e+01, 1.329e+02, ..., 1.860e-01, 2.750e-01,\n        8.902e-02],\n       [1.969e+01, 2.125e+01, 1.300e+02, ..., 2.430e-01, 3.613e-01,\n        8.758e-02],\n       ...,\n       [1.660e+01, 2.808e+01, 1.083e+02, ..., 1.418e-01, 2.218e-01,\n        7.820e-02],\n       [2.060e+01, 2.933e+01, 1.401e+02, ..., 2.650e-01, 4.087e-01,\n        1.240e-01],\n       [7.760e+00, 2.454e+01, 4.792e+01, ..., 0.000e+00, 2.871e-01,\n        7.039e-02]])"
     },
     "execution_count": 36,
     "metadata": {},
     "output_type": "execute_result"
    }
   ],
   "source": [
    "# Label\n",
    "y = df.iloc[:, 1].values\n",
    "\n",
    "# Features\n",
    "X = df.iloc[:, 2:].values\n",
    "\n",
    "X"
   ],
   "metadata": {
    "collapsed": false,
    "pycharm": {
     "name": "#%%\n"
    }
   }
  },
  {
   "cell_type": "markdown",
   "source": [
    "We moeten de data vervolgens verdelen in train en test data. We kiezen voor Een random sample in een 3/7 verhouding, die verhouding om overfitting te voorkomen, dit doen we moet sklearn omdat het handig is."
   ],
   "metadata": {
    "collapsed": false,
    "pycharm": {
     "name": "#%% md\n"
    }
   }
  },
  {
   "cell_type": "code",
   "execution_count": 37,
   "outputs": [],
   "source": [
    "X_train, X_test, y_train, y_test = train_test_split(X, y, test_size = 0.3, random_state = 0)"
   ],
   "metadata": {
    "collapsed": false,
    "pycharm": {
     "name": "#%%\n"
    }
   }
  },
  {
   "cell_type": "markdown",
   "source": [
    "We willen principle component analysis uitvoeren op de dataset, om dit te doen moeten we eerst de data standaard normaal maken. Dit kunnen we doen met de StandardScalar."
   ],
   "metadata": {
    "collapsed": false,
    "pycharm": {
     "name": "#%% md\n"
    }
   }
  },
  {
   "cell_type": "code",
   "execution_count": 38,
   "outputs": [
    {
     "data": {
      "text/plain": "array([[-0.21855296,  0.31710749, -0.14938447, ...,  1.36998461,\n         1.0939611 ,  1.51560644],\n       [-0.27141746,  1.44727832, -0.33290634, ..., -0.84095647,\n        -0.70686766, -0.88310324],\n       [-0.04604776, -0.84412512, -0.11098232, ..., -0.50394228,\n        -1.19298094, -0.92659449],\n       ...,\n       [-0.13230036, -0.12253613, -0.14574637, ...,  0.20087616,\n        -0.06766026,  0.36754897],\n       [-0.24637638,  0.56799108, -0.28682376, ..., -0.90055508,\n        -0.40225771, -0.95558866],\n       [-1.35013142,  0.65639767, -1.34712739, ..., -1.36545479,\n        -0.72107227, -0.54576727]])"
     },
     "execution_count": 38,
     "metadata": {},
     "output_type": "execute_result"
    }
   ],
   "source": [
    "sc = StandardScaler()\n",
    "X_train = sc.fit_transform(X_train)\n",
    "X_test = sc.transform(X_test)\n",
    "\n",
    "X_test"
   ],
   "metadata": {
    "collapsed": false,
    "pycharm": {
     "name": "#%%\n"
    }
   }
  },
  {
   "cell_type": "markdown",
   "source": [
    "Vervolgens voeren we PCA uit op de train en test set."
   ],
   "metadata": {
    "collapsed": false,
    "pycharm": {
     "name": "#%% md\n"
    }
   }
  },
  {
   "cell_type": "code",
   "execution_count": 39,
   "outputs": [
    {
     "data": {
      "text/plain": "PCA(n_components=8)"
     },
     "execution_count": 39,
     "metadata": {},
     "output_type": "execute_result"
    }
   ],
   "source": [
    "from sklearn.decomposition import PCA\n",
    "pca_train = PCA(n_components=8)\n",
    "pca_train.fit(X_train)\n",
    "\n",
    "pca_test = PCA(n_components=8)\n",
    "pca_test.fit(X_train)"
   ],
   "metadata": {
    "collapsed": false,
    "pycharm": {
     "name": "#%%\n"
    }
   }
  },
  {
   "cell_type": "code",
   "execution_count": 40,
   "outputs": [],
   "source": [
    "class NeuralNetwork:\n",
    "    def __init__(self, X, y, X_test, y_test, hidden_nodes=42, epochs=4200, learning_rate=0.1):\n",
    "        # Initialize the data\n",
    "        self.X = X\n",
    "        self.y = y[:,None]\n",
    "\n",
    "        self.y_test = y_test\n",
    "        self.X_test = X_test\n",
    "\n",
    "        # parameters\n",
    "        # Random seed to get same results\n",
    "        np.random.seed(420)\n",
    "\n",
    "\n",
    "        # Set the amount of input nodes to the length of the data frame\n",
    "        self.input_nodes = len(X[0])\n",
    "        # Set the amount of hidden nodes in the network.\n",
    "        self.hidden_nodes = hidden_nodes\n",
    "        # determine the amount of output nodes by looking at the shape of our target\n",
    "        self.output_nodes = self.y.shape[1]\n",
    "        # Set learning rate for gradient descent.\n",
    "        self.learning_rate = learning_rate\n",
    "\n",
    "        # Initialize weights\n",
    "        self.w1 = 2 * np.random.random((self.input_nodes, self.hidden_nodes))- 1\n",
    "        self.w2 = 2 * np.random.random((self.hidden_nodes, self.output_nodes))- 1\n",
    "\n",
    "\n",
    "    def sigmoid(self, X):\n",
    "        \"\"\"\n",
    "        Sigmoid activation function\n",
    "        :param X:\n",
    "        :return: sigmoid output\n",
    "        \"\"\"\n",
    "        return 1 / (1 + np.exp(-X))\n",
    "\n",
    "    def sigmoid_prime(self, X):\n",
    "        \"\"\"\n",
    "        Sigmoid prime activation function\n",
    "        :param X:\n",
    "        :return: sigmoid prime output\n",
    "        \"\"\"\n",
    "        return X * (1 - X)\n",
    "\n",
    "    def train(self, epochs):\n",
    "        \"\"\"\n",
    "        Train the model using the parameters set during initialization.\n",
    "        Will first forward the data through the layers and perform backpropagation of errors\n",
    "        :param epochs: the amount of passes through the training set.\n",
    "        \"\"\"\n",
    "        for e in range(epochs):\n",
    "\n",
    "            # FORWARD\n",
    "            # hidden layer\n",
    "            l1 = self.sigmoid(np.dot(self.X, self.w1))\n",
    "\n",
    "            # output layer\n",
    "            l2 = self.sigmoid(np.dot(l1, self.w2))\n",
    "\n",
    "            # BACKPROPAGATION\n",
    "            # calculate error margin\n",
    "\n",
    "            error_margin = self.y - l2\n",
    "\n",
    "            # Calculate how far off each layer is\n",
    "            l2_delta = error_margin * self.sigmoid_prime(l2)\n",
    "            l1_delta = l2_delta.dot(self.w2.T) * self.sigmoid_prime(l1)\n",
    "\n",
    "            # Update weights with our error values\n",
    "            self.w2 = np.add(self.w2, l1.T.dot(l2_delta) * self.learning_rate)\n",
    "            self.w1 = np.add(self.w1, self.X.T.dot(l1_delta) * self.learning_rate)\n",
    "\n",
    "        print('Error:', (abs(error_margin)).mean())\n",
    "\n",
    "    def test(self):\n",
    "        \"\"\"\n",
    "        Run accuracy test\n",
    "        \"\"\"\n",
    "        correct_pred = 0\n",
    "        prediction_list = []\n",
    "\n",
    "        # Feedforward for testing\n",
    "        l1 = self.sigmoid(np.dot(self.X_test, self.w1))\n",
    "        l2 = self.sigmoid(np.dot(l1, self.w2))\n",
    "\n",
    "        # loop through all layer two's outputs.\n",
    "        for i in range(len(l2)):\n",
    "            if l2[i] >= 0.5:\n",
    "                prediction = 1\n",
    "            else:\n",
    "                prediction = 0\n",
    "\n",
    "            if prediction == self.y_test[i]:\n",
    "                correct_pred += 1\n",
    "\n",
    "            prediction_list.append(prediction)\n",
    "\n",
    "        print(\"Test Accuracy: {} %\".format((correct_pred / len(y_test)) * 100))\n",
    "\n",
    "        # Confusion matrix\n",
    "        c_matrix = confusion_matrix(y_test, prediction_list)\n",
    "        sns.heatmap(c_matrix, annot = True)\n",
    "        plt.show()"
   ],
   "metadata": {
    "collapsed": false,
    "pycharm": {
     "name": "#%%\n"
    }
   }
  },
  {
   "cell_type": "code",
   "execution_count": 41,
   "outputs": [
    {
     "name": "stdout",
     "output_type": "stream",
     "text": [
      "Error: 0.010238578371784149\n",
      "Test Accuracy: 96.49122807017544 %\n"
     ]
    },
    {
     "data": {
      "text/plain": "<Figure size 432x288 with 2 Axes>",
      "image/png": "[encoded data removed]"
     },
     "metadata": {
      "needs_background": "light"
     },
     "output_type": "display_data"
    }
   ],
   "source": [
    "# Initialize the network with the data.\n",
    "nn = NeuralNetwork(X_train, y_train, X_test, y_test)\n",
    "\n",
    "# Train the network after initialization.\n",
    "nn.train(420)\n",
    "\n",
    "# Test accuracy.\n",
    "nn.test()"
   ],
   "metadata": {
    "collapsed": false,
    "pycharm": {
     "name": "#%%\n"
    }
   }
  }
 ],
 "metadata": {
  "kernelspec": {
   "display_name": "Python 3",
   "language": "python",
   "name": "python3"
  },
  "language_info": {
   "codemirror_mode": {
    "name": "ipython",
    "version": 2
   },
   "file_extension": ".py",
   "mimetype": "text/x-python",
   "name": "python",
   "nbconvert_exporter": "python",
   "pygments_lexer": "ipython2",
   "version": "2.7.6"
  }
 },
 "nbformat": 4,
 "nbformat_minor": 0
}