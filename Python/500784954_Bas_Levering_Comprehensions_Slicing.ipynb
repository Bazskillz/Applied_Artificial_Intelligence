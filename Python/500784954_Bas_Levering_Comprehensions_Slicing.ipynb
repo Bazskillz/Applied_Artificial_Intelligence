{
 "cells": [
  {
   "cell_type": "markdown",
   "id": "bd799f55",
   "metadata": {},
   "source": [
    "## Slicing and comprehensions python demo"
   ]
  },
  {
   "cell_type": "markdown",
   "id": "1ba48216",
   "metadata": {},
   "source": [
    "### Comprehensions"
   ]
  },
  {
   "cell_type": "code",
   "execution_count": 5,
   "id": "4ab57cd8",
   "metadata": {},
   "outputs": [
    {
     "data": {
      "text/plain": [
       "['Tomato',\n",
       " 'Strawberry',\n",
       " 'Raspberry',\n",
       " 'Rotten_strawbery',\n",
       " 'Blackberry',\n",
       " 'Rotten Tomato']"
      ]
     },
     "execution_count": 5,
     "metadata": {},
     "output_type": "execute_result"
    }
   ],
   "source": [
    "old_fruit_basket = [\"Tomato\", \"Strawberry\", \"Raspberry\", \"Rotten_strawbery\", \"Blackberry\", \"Rotten Tomato\"]\n",
    "\n",
    "old_fruit_basket"
   ]
  },
  {
   "cell_type": "markdown",
   "id": "24b5e91c",
   "metadata": {},
   "source": [
    "As we can see I've created a list containing Old fruit, but, some of the fruit has gone bad and I want to remove those from the list. The spoiled fruit has been marked with \"rotten\"\n",
    "\n",
    "Lets use a comprehension to remove them. "
   ]
  },
  {
   "cell_type": "code",
   "execution_count": 4,
   "id": "e4375ee7",
   "metadata": {},
   "outputs": [
    {
     "name": "stdout",
     "output_type": "stream",
     "text": [
      "['Rotten_strawbery', 'Rotten Tomato']\n"
     ]
    }
   ],
   "source": [
    "rotten_fruit_basket = [x for x in old_fruit_basket if \"Rotten\" in x]\n",
    "\n",
    "print(rotten_fruit_basket)"
   ]
  },
  {
   "cell_type": "markdown",
   "id": "3702f352",
   "metadata": {},
   "source": [
    "As you can see we now have a new list with the rotten fruit components of the original list"
   ]
  },
  {
   "cell_type": "markdown",
   "id": "5b71455e",
   "metadata": {},
   "source": [
    "### Slicing \n",
    "Lets say we want only the last two entries from the old_fruit_basket list. We can access them by using Slicing and all we need is the index of the entries."
   ]
  },
  {
   "cell_type": "code",
   "execution_count": 13,
   "id": "06a450ac",
   "metadata": {},
   "outputs": [
    {
     "data": {
      "text/plain": [
       "['Tomato', 'Strawberry']"
      ]
     },
     "execution_count": 13,
     "metadata": {},
     "output_type": "execute_result"
    }
   ],
   "source": [
    "# 0, 1\n",
    "old_fruit_basket[:2]"
   ]
  },
  {
   "cell_type": "code",
   "execution_count": 15,
   "id": "3b1811fd",
   "metadata": {},
   "outputs": [
    {
     "data": {
      "text/plain": [
       "['Raspberry', 'Rotten_strawbery']"
      ]
     },
     "execution_count": 15,
     "metadata": {},
     "output_type": "execute_result"
    }
   ],
   "source": [
    "# 0, 1, 2 ,3\n",
    "old_fruit_basket[:4]"
   ]
  },
  {
   "cell_type": "code",
   "execution_count": 17,
   "id": "4b1ab617",
   "metadata": {},
   "outputs": [
    {
     "data": {
      "text/plain": [
       "['Raspberry', 'Rotten_strawbery']"
      ]
     },
     "execution_count": 17,
     "metadata": {},
     "output_type": "execute_result"
    }
   ],
   "source": [
    "# 2 ,3\n",
    "old_fruit_basket[2:4]"
   ]
  },
  {
   "cell_type": "code",
   "execution_count": 20,
   "id": "13d3004a",
   "metadata": {},
   "outputs": [
    {
     "data": {
      "text/plain": [
       "'Raspberry'"
      ]
     },
     "execution_count": 20,
     "metadata": {},
     "output_type": "execute_result"
    }
   ],
   "source": [
    "# 4th from the end\n",
    "old_fruit_basket[-4]"
   ]
  },
  {
   "cell_type": "code",
   "execution_count": 23,
   "id": "949543ba",
   "metadata": {},
   "outputs": [
    {
     "data": {
      "text/plain": [
       "['Rotten_strawbery', 'Blackberry', 'Rotten Tomato']"
      ]
     },
     "execution_count": 23,
     "metadata": {},
     "output_type": "execute_result"
    }
   ],
   "source": [
    "# 3 ,4 ,5\n",
    "old_fruit_basket[3:]"
   ]
  }
 ],
 "metadata": {
  "kernelspec": {
   "display_name": "Python 3 (ipykernel)",
   "language": "python",
   "name": "python3"
  },
  "language_info": {
   "codemirror_mode": {
    "name": "ipython",
    "version": 3
   },
   "file_extension": ".py",
   "mimetype": "text/x-python",
   "name": "python",
   "nbconvert_exporter": "python",
   "pygments_lexer": "ipython3",
   "version": "3.9.2"
  }
 },
 "nbformat": 4,
 "nbformat_minor": 5
}
