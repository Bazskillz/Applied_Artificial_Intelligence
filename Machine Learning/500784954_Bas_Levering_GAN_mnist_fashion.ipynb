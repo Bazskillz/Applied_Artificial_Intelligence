{
 "cells": [
  {
   "cell_type": "markdown",
   "id": "886f9e88",
   "metadata": {},
   "source": [
    "With adversarial machine learning we try to exploit / abuse the model by deriving information about the model to create specific edge cases in our model. \n",
    "\n",
    "An example of this could be the detection of persons in a camera frame, if the subject holds an object this could make the network miss the subject. With advarsarial machine learning we try to find these edge cases."
   ]
  },
  {
   "cell_type": "markdown",
   "id": "91169f3b",
   "metadata": {},
   "source": [
    "We will be testing this with Generative adversarial network (GAN) and Auto encoder, we will use these to generate images, the autoencoder will attempt to classify the images before generate them after. \n",
    "\n",
    "### something about the generator...\n"
   ]
  },
  {
   "cell_type": "code",
   "execution_count": 4,
   "id": "2bd30ab2",
   "metadata": {},
   "outputs": [],
   "source": [
    "from numpy import zeros, ones, expand_dims\n",
    "from numpy.random import randint, randn\n",
    "\n",
    "\n",
    "from keras.layers import Conv2D, LeakyReLU, Dense, Flatten, Conv2DTranspose, Reshape, Dropout\n",
    "from keras.models import load_model, Sequential\n",
    "from keras.datasets.fashion_mnist import load_data\n",
    "from keras.optimizers import Adam\n",
    "\n",
    "import matplotlib.pyplot as plt"
   ]
  },
  {
   "cell_type": "code",
   "execution_count": 5,
   "id": "9a00b578",
   "metadata": {},
   "outputs": [
    {
     "name": "stdout",
     "output_type": "stream",
     "text": [
      "Train (60000, 28, 28) (60000,)\n",
      "Test (10000, 28, 28) (10000,)\n"
     ]
    },
    {
     "data": {
      "image/png": "[encoded data removed]",
      "text/plain": [
       "<Figure size 432x288 with 15 Axes>"
      ]
     },
     "metadata": {
      "needs_background": "light"
     },
     "output_type": "display_data"
    }
   ],
   "source": [
    "# Load the data\n",
    "(X_train, y_train), (X_test, y_test) = load_data()\n",
    "\n",
    "# Show shape\n",
    "print('Train {} {}'.format(X_train.shape, y_train.shape))\n",
    "print('Test {} {}'.format(X_test.shape, y_test.shape))\n",
    "\n",
    "# Examples from train set.\n",
    "for i in range(15):\n",
    "\tplt.subplot(5, 5, 1 + i); plt.axis('off')\n",
    "\tplt.imshow(X_train[i], cmap='gray', interpolation = 'bilinear') \n",
    "    "
   ]
  },
  {
   "cell_type": "markdown",
   "id": "b3cd1c86",
   "metadata": {},
   "source": [
    "The training data for the discriminator originates from two places:\n",
    "\n",
    "* Real-world data examples, such as real-world portraits of people. During training, the discriminator considers these examples as positive examples.\n",
    "* The generator generates fake data instances. During training, the discriminator uses these situations as negative examples.\n",
    "\n",
    "In a GAN, the discriminator is just a classifier. It tries to tell the difference between genuine data and data generated by the generator. Any network architecture relevant to the type of data it's classifying could be used."
   ]
  },
  {
   "cell_type": "markdown",
   "id": "6159402b",
   "metadata": {},
   "source": [
    "## Model definition"
   ]
  },
  {
   "cell_type": "markdown",
   "id": "745b65eb",
   "metadata": {},
   "source": [
    "Defining the discriminator"
   ]
  },
  {
   "cell_type": "code",
   "execution_count": 6,
   "id": "5d5d8315",
   "metadata": {},
   "outputs": [
    {
     "name": "stderr",
     "output_type": "stream",
     "text": [
      "2022-05-09 10:48:27.707786: I tensorflow/compiler/jit/xla_cpu_device.cc:41] Not creating XLA devices, tf_xla_enable_xla_devices not set\n",
      "2022-05-09 10:48:27.708406: I tensorflow/core/platform/cpu_feature_guard.cc:142] This TensorFlow binary is optimized with oneAPI Deep Neural Network Library (oneDNN) to use the following CPU instructions in performance-critical operations:  SSE4.1 SSE4.2\n",
      "To enable them in other operations, rebuild TensorFlow with the appropriate compiler flags.\n",
      "2022-05-09 10:48:27.714516: I tensorflow/core/common_runtime/process_util.cc:146] Creating new thread pool with default inter op setting: 2. Tune using inter_op_parallelism_threads for best performance.\n"
     ]
    }
   ],
   "source": [
    "discriminator_model = Sequential()\n",
    "\n",
    "discriminator_model.add(Conv2D(128, (3, 3), strides = (2, 2), padding = 'same', input_shape = (28,28,1)))\n",
    "discriminator_model.add(LeakyReLU(alpha = 0.2))\n",
    "discriminator_model.add(Conv2D(128, (3, 3), strides = (2, 2), padding = 'same'))\n",
    "discriminator_model.add(LeakyReLU(alpha = 0.2))\n",
    "\n",
    "discriminator_model.add(Flatten())\n",
    "discriminator_model.add(Dropout(0.4))\n",
    "discriminator_model.add(Dense(1, activation = 'sigmoid'))\n",
    "\n",
    "discriminator_model.trainable = False\n",
    "\n",
    "# compile model\n",
    "discriminator_model.compile(loss='squared_hinge', optimizer = 'adam', metrics = ['accuracy'])"
   ]
  },
  {
   "cell_type": "markdown",
   "id": "9b52c825",
   "metadata": {},
   "source": [
    "Defining the generator\n"
   ]
  },
  {
   "cell_type": "code",
   "execution_count": 7,
   "id": "13dfad61",
   "metadata": {},
   "outputs": [],
   "source": [
    "generator_model = Sequential()\n",
    "\n",
    "latent_dimensions = 100\n",
    "\n",
    "# Initialize on 7x7\n",
    "generator_model.add(Dense(6272, input_dim = latent_dimensions))\n",
    "generator_model.add(LeakyReLU(alpha=0.2))\n",
    "generator_model.add(Reshape((7, 7, 128)))\n",
    "\n",
    "# 14x14 Upsample\n",
    "generator_model.add(Conv2DTranspose(128, (4,4), strides=(2,2), padding='same'))\n",
    "generator_model.add(LeakyReLU(alpha=0.2))\n",
    "\n",
    "# 28x28 Upsample \n",
    "generator_model.add(Conv2DTranspose(128, (4,4), strides=(2,2), padding='same'))\n",
    "generator_model.add(LeakyReLU(alpha=0.2))\n",
    "\n",
    "generator_model.add(Conv2D(1, (7,7), activation='tanh', padding='same'))\n",
    "generator_model.compile(loss = 'squared_hinge', optimizer = 'adam')\n"
   ]
  },
  {
   "cell_type": "markdown",
   "id": "49494eae",
   "metadata": {},
   "source": [
    "Define GAN model."
   ]
  },
  {
   "cell_type": "code",
   "execution_count": 8,
   "id": "b95fbd29",
   "metadata": {},
   "outputs": [],
   "source": [
    "gan_model = Sequential()\n",
    "gan_model.add(generator_model)\n",
    "gan_model.add(discriminator_model)\n",
    "\n",
    "gan_model.compile(loss='squared_hinge', optimizer='adam')\n"
   ]
  },
  {
   "cell_type": "markdown",
   "id": "c7f4e07f",
   "metadata": {},
   "source": [
    "### Prepare the data"
   ]
  },
  {
   "cell_type": "code",
   "execution_count": 9,
   "id": "6aada747",
   "metadata": {},
   "outputs": [],
   "source": [
    "def load_real_samples():\n",
    "\t(train_X, _), (_, _) = load_data()\n",
    "\n",
    "\tX = expand_dims(train_X, axis=-1)\n",
    "\tX = X.astype('float32')\n",
    "    # To get values between -1 and 1, delete half of the list and divide by half.\n",
    "\n",
    "\tX = (X-127.5) /127.5 \n",
    "\treturn X\n",
    "\n",
    "\n",
    "# returns a list of images based on the number of samples required\n",
    "def generate_real_samples(dataset, n_sample):\n",
    "\t# choose random instances\n",
    "\ti_x = randint(0, dataset.shape[0], n_sample)\n",
    "\tX = dataset[i_x]\n",
    "\ty = ones((n_sample, 1))\n",
    "    \n",
    "\treturn X, y\n",
    "\n",
    "# generate points in number areas\n",
    "def generate_latent_points(latent_dim, n_sample):\n",
    "\tx_input = randn(latent_dim * n_sample)\n",
    "\tx_input = x_input.reshape(n_sample, latent_dim)\n",
    "    \n",
    "\treturn x_input\n",
    "\n",
    "# generate new points\n",
    "def generate_fake_samples(generator, latent_dim, n_sample):\n",
    "\tx_input = generate_latent_points(latent_dim, n_sample)\n",
    "\tX = generator.predict(x_input)\n",
    "\ty = zeros((n_sample, 1))\n",
    "    \n",
    "\treturn X, y"
   ]
  },
  {
   "cell_type": "markdown",
   "id": "05f4e97e",
   "metadata": {},
   "source": [
    "Define the training function, to train the generator / discriminator"
   ]
  },
  {
   "cell_type": "code",
   "execution_count": null,
   "id": "1c6173cb",
   "metadata": {},
   "outputs": [
    {
     "name": "stdout",
     "output_type": "stream",
     "text": [
      ">1, 1/468, d1=0.269, d2=2.249 g=0.250\n",
      ">1, 2/468, d1=0.266, d2=2.256 g=0.248\n",
      ">1, 3/468, d1=0.265, d2=2.271 g=0.243\n",
      ">1, 4/468, d1=0.267, d2=2.293 g=0.236\n",
      ">1, 5/468, d1=0.265, d2=2.320 g=0.226\n",
      ">1, 6/468, d1=0.267, d2=2.359 g=0.214\n",
      ">1, 7/468, d1=0.266, d2=2.397 g=0.207\n",
      ">1, 8/468, d1=0.265, d2=2.420 g=0.199\n",
      ">1, 9/468, d1=0.267, d2=2.424 g=0.200\n",
      ">1, 10/468, d1=0.264, d2=2.436 g=0.194\n",
      ">1, 11/468, d1=0.266, d2=2.449 g=0.190\n",
      ">1, 12/468, d1=0.266, d2=2.468 g=0.190\n",
      ">1, 13/468, d1=0.269, d2=2.473 g=0.181\n",
      ">1, 14/468, d1=0.263, d2=2.487 g=0.178\n",
      ">1, 15/468, d1=0.267, d2=2.491 g=0.179\n",
      ">1, 16/468, d1=0.268, d2=2.483 g=0.173\n",
      ">1, 17/468, d1=0.264, d2=2.484 g=0.175\n",
      ">1, 18/468, d1=0.268, d2=2.509 g=0.176\n",
      ">1, 19/468, d1=0.264, d2=2.518 g=0.172\n",
      ">1, 20/468, d1=0.269, d2=2.522 g=0.169\n",
      ">1, 21/468, d1=0.271, d2=2.511 g=0.169\n",
      ">1, 22/468, d1=0.269, d2=2.549 g=0.167\n",
      ">1, 23/468, d1=0.269, d2=2.531 g=0.162\n",
      ">1, 24/468, d1=0.265, d2=2.526 g=0.165\n",
      ">1, 25/468, d1=0.262, d2=2.549 g=0.164\n",
      ">1, 26/468, d1=0.271, d2=2.556 g=0.162\n",
      ">1, 27/468, d1=0.265, d2=2.551 g=0.159\n",
      ">1, 28/468, d1=0.267, d2=2.562 g=0.160\n",
      ">1, 29/468, d1=0.266, d2=2.562 g=0.156\n",
      ">1, 30/468, d1=0.270, d2=2.554 g=0.156\n",
      ">1, 31/468, d1=0.264, d2=2.575 g=0.156\n",
      ">1, 32/468, d1=0.269, d2=2.589 g=0.156\n",
      ">1, 33/468, d1=0.267, d2=2.590 g=0.157\n",
      ">1, 34/468, d1=0.263, d2=2.589 g=0.153\n",
      ">1, 35/468, d1=0.266, d2=2.598 g=0.155\n",
      ">1, 36/468, d1=0.264, d2=2.608 g=0.153\n",
      ">1, 37/468, d1=0.268, d2=2.593 g=0.153\n",
      ">1, 38/468, d1=0.269, d2=2.589 g=0.151\n",
      ">1, 39/468, d1=0.268, d2=2.615 g=0.151\n",
      ">1, 40/468, d1=0.269, d2=2.616 g=0.148\n",
      ">1, 41/468, d1=0.267, d2=2.596 g=0.149\n",
      ">1, 42/468, d1=0.265, d2=2.614 g=0.147\n",
      ">1, 43/468, d1=0.267, d2=2.621 g=0.145\n",
      ">1, 44/468, d1=0.265, d2=2.624 g=0.146\n",
      ">1, 45/468, d1=0.266, d2=2.615 g=0.146\n",
      ">1, 46/468, d1=0.269, d2=2.610 g=0.144\n",
      ">1, 47/468, d1=0.267, d2=2.630 g=0.144\n",
      ">1, 48/468, d1=0.267, d2=2.622 g=0.144\n",
      ">1, 49/468, d1=0.265, d2=2.627 g=0.145\n",
      ">1, 50/468, d1=0.268, d2=2.637 g=0.143\n",
      ">1, 51/468, d1=0.266, d2=2.640 g=0.141\n",
      ">1, 52/468, d1=0.269, d2=2.651 g=0.142\n",
      ">1, 53/468, d1=0.269, d2=2.644 g=0.140\n",
      ">1, 54/468, d1=0.265, d2=2.647 g=0.139\n",
      ">1, 55/468, d1=0.263, d2=2.661 g=0.136\n",
      ">1, 56/468, d1=0.264, d2=2.655 g=0.139\n",
      ">1, 57/468, d1=0.269, d2=2.649 g=0.139\n",
      ">1, 58/468, d1=0.268, d2=2.654 g=0.137\n",
      ">1, 59/468, d1=0.268, d2=2.665 g=0.136\n",
      ">1, 60/468, d1=0.270, d2=2.676 g=0.136\n",
      ">1, 61/468, d1=0.266, d2=2.661 g=0.136\n",
      ">1, 62/468, d1=0.266, d2=2.676 g=0.134\n",
      ">1, 63/468, d1=0.267, d2=2.668 g=0.134\n",
      ">1, 64/468, d1=0.266, d2=2.657 g=0.132\n",
      ">1, 65/468, d1=0.265, d2=2.666 g=0.133\n",
      ">1, 66/468, d1=0.263, d2=2.686 g=0.135\n",
      ">1, 67/468, d1=0.266, d2=2.669 g=0.134\n",
      ">1, 68/468, d1=0.264, d2=2.680 g=0.131\n",
      ">1, 69/468, d1=0.268, d2=2.676 g=0.130\n",
      ">1, 70/468, d1=0.269, d2=2.690 g=0.130\n",
      ">1, 71/468, d1=0.263, d2=2.686 g=0.128\n",
      ">1, 72/468, d1=0.269, d2=2.695 g=0.131\n",
      ">1, 73/468, d1=0.266, d2=2.698 g=0.132\n",
      ">1, 74/468, d1=0.267, d2=2.699 g=0.128\n",
      ">1, 75/468, d1=0.271, d2=2.699 g=0.128\n",
      ">1, 76/468, d1=0.271, d2=2.702 g=0.130\n",
      ">1, 77/468, d1=0.268, d2=2.683 g=0.128\n",
      ">1, 78/468, d1=0.267, d2=2.706 g=0.131\n",
      ">1, 79/468, d1=0.264, d2=2.710 g=0.127\n",
      ">1, 80/468, d1=0.267, d2=2.706 g=0.126\n",
      ">1, 81/468, d1=0.263, d2=2.685 g=0.127\n",
      ">1, 82/468, d1=0.265, d2=2.697 g=0.128\n",
      ">1, 83/468, d1=0.265, d2=2.708 g=0.127\n",
      ">1, 84/468, d1=0.265, d2=2.705 g=0.127\n",
      ">1, 85/468, d1=0.266, d2=2.704 g=0.126\n",
      ">1, 86/468, d1=0.266, d2=2.704 g=0.126\n",
      ">1, 87/468, d1=0.266, d2=2.711 g=0.128\n",
      ">1, 88/468, d1=0.267, d2=2.705 g=0.126\n",
      ">1, 89/468, d1=0.267, d2=2.707 g=0.127\n",
      ">1, 90/468, d1=0.264, d2=2.712 g=0.125\n",
      ">1, 91/468, d1=0.266, d2=2.719 g=0.126\n",
      ">1, 92/468, d1=0.267, d2=2.707 g=0.127\n",
      ">1, 93/468, d1=0.265, d2=2.708 g=0.123\n",
      ">1, 94/468, d1=0.269, d2=2.711 g=0.125\n",
      ">1, 95/468, d1=0.263, d2=2.715 g=0.124\n",
      ">1, 96/468, d1=0.271, d2=2.730 g=0.125\n",
      ">1, 97/468, d1=0.265, d2=2.715 g=0.124\n",
      ">1, 98/468, d1=0.265, d2=2.715 g=0.125\n",
      ">1, 99/468, d1=0.264, d2=2.719 g=0.124\n",
      ">1, 100/468, d1=0.264, d2=2.730 g=0.123\n",
      ">1, 101/468, d1=0.264, d2=2.730 g=0.122\n",
      ">1, 102/468, d1=0.263, d2=2.725 g=0.122\n",
      ">1, 103/468, d1=0.263, d2=2.746 g=0.123\n",
      ">1, 104/468, d1=0.266, d2=2.737 g=0.122\n",
      ">1, 105/468, d1=0.264, d2=2.729 g=0.122\n",
      ">1, 106/468, d1=0.266, d2=2.737 g=0.120\n",
      ">1, 107/468, d1=0.265, d2=2.732 g=0.122\n",
      ">1, 108/468, d1=0.267, d2=2.736 g=0.121\n",
      ">1, 109/468, d1=0.266, d2=2.729 g=0.119\n",
      ">1, 110/468, d1=0.265, d2=2.727 g=0.121\n",
      ">1, 111/468, d1=0.267, d2=2.735 g=0.121\n",
      ">1, 112/468, d1=0.267, d2=2.738 g=0.120\n",
      ">1, 113/468, d1=0.270, d2=2.741 g=0.117\n",
      ">1, 114/468, d1=0.268, d2=2.737 g=0.119\n",
      ">1, 115/468, d1=0.265, d2=2.741 g=0.120\n",
      ">1, 116/468, d1=0.269, d2=2.753 g=0.118\n",
      ">1, 117/468, d1=0.267, d2=2.739 g=0.117\n",
      ">1, 118/468, d1=0.264, d2=2.743 g=0.118\n",
      ">1, 119/468, d1=0.265, d2=2.749 g=0.120\n",
      ">1, 120/468, d1=0.266, d2=2.751 g=0.120\n",
      ">1, 121/468, d1=0.265, d2=2.736 g=0.119\n",
      ">1, 122/468, d1=0.266, d2=2.756 g=0.118\n",
      ">1, 123/468, d1=0.265, d2=2.756 g=0.119\n",
      ">1, 124/468, d1=0.268, d2=2.743 g=0.116\n",
      ">1, 125/468, d1=0.266, d2=2.753 g=0.116\n",
      ">1, 126/468, d1=0.264, d2=2.751 g=0.118\n",
      ">1, 127/468, d1=0.268, d2=2.746 g=0.119\n"
     ]
    }
   ],
   "source": [
    "def train(g_model, d_model, gan_model, dataset, latent_dim, n_epochs = 3, n_batch = 128):\n",
    "\tbat_per_epo = int(dataset.shape[0] / n_batch)\n",
    "\thalf_batch = int(n_batch / 2)\n",
    "\t# enumerate epochs\n",
    "\tfor i in range(n_epochs):\n",
    "\t\t# enumerate batches over the training set\n",
    "\t\tfor j in range(bat_per_epo):\n",
    "\t\t\t# get randomly selected 'real' samples\n",
    "\t\t\tX_real, y_real = generate_real_samples(dataset, half_batch)\n",
    "\t\t\t# update discriminator model weights\n",
    "\t\t\td_loss1, _ = d_model.train_on_batch(X_real, y_real)\n",
    "\t\t\t# generate 'fake' examples\n",
    "\t\t\tX_fake, y_fake = generate_fake_samples(g_model, latent_dim, half_batch)\n",
    "\t\t\t# update discriminator model weights\n",
    "\t\t\td_loss2, _ = d_model.train_on_batch(X_fake, y_fake)\n",
    "\t\t\t# prepare points in latent space as input for the generator\n",
    "\t\t\tX_gan = generate_latent_points(latent_dim, n_batch)\n",
    "\t\t\t# create inverted labels for the fake samples\n",
    "\t\t\ty_gan = ones((n_batch, 1))\n",
    "\t\t\t# update the generator via the discriminator's error\n",
    "\t\t\tg_loss = gan_model.train_on_batch(X_gan, y_gan)\n",
    "\t\t\t# summarize loss on this batch\n",
    "\t\t\tprint('>%d, %d/%d, d1=%.3f, d2=%.3f g=%.3f' %\n",
    "\t\t\t\t(i+1, j+1, bat_per_epo, d_loss1, d_loss2, g_loss))\n",
    "\t# save the generator model\n",
    "\tg_model.save('generator_model.h5')\n",
    "\n",
    "# Load data\n",
    "dataset = load_real_samples()\n",
    "# train model\n",
    "train(generator_model, discriminator_model, gan_model, dataset, 100)"
   ]
  },
  {
   "cell_type": "code",
   "execution_count": null,
   "id": "f20f167c",
   "metadata": {},
   "outputs": [],
   "source": [
    "def generate_latent_points(latent_dim, n_samples):\n",
    "\t# generate points in the latent space\n",
    "\tx_input = randn(latent_dim * n_samples)\n",
    "\t# reshape into a batch of inputs for the network\n",
    "\tx_input = x_input.reshape(n_samples, latent_dim)\n",
    "\treturn x_input\n",
    " \n",
    "# create and save a plot of generated images (reversed grayscale)\n",
    "def show_plot(examples, n):\n",
    "\t# plot images\n",
    "\tfor i in range(n * n):\n",
    "\t\t# define subplot\n",
    "\t\tplt.subplot(n, n, 1 + i)\n",
    "\t\t# turn off axis\n",
    "\t\tplt.axis('off')\n",
    "\t\t# plot raw pixel data\n",
    "\t\tplt.imshow(examples[i, :, :, 0], cmap='gray_r')\n",
    "\tplt.show()\n",
    " \n",
    "model_generator = load_model('../models/generator_model.h5')\n",
    "latent_points = generate_latent_points(100, 100)\n",
    "X = model_generator.predict(latent_points)\n",
    "show_plot(X, 10)"
   ]
  },
  {
   "cell_type": "markdown",
   "id": "f2f750b3",
   "metadata": {},
   "source": [
    "## Evaluation"
   ]
  },
  {
   "cell_type": "markdown",
   "id": "34d4acc2",
   "metadata": {},
   "source": [
    "Because this is a standard GAN model we cant choose the type of input to be ignored. A random point is chose in latent space for the latent dimensions. this dimension is then used to generate the image. This means we cant choose the type of clothing. This can be solved by creating a conditional GAN. \n",
    "\n",
    "From the results we can see that there is some progression in the training, the latent space is the area of possible integers."
   ]
  },
  {
   "cell_type": "code",
   "execution_count": null,
   "id": "c92c6b77",
   "metadata": {},
   "outputs": [],
   "source": []
  }
 ],
 "metadata": {
  "kernelspec": {
   "display_name": "Python 3 (ipykernel)",
   "language": "python",
   "name": "python3"
  },
  "language_info": {
   "codemirror_mode": {
    "name": "ipython",
    "version": 3
   },
   "file_extension": ".py",
   "mimetype": "text/x-python",
   "name": "python",
   "nbconvert_exporter": "python",
   "pygments_lexer": "ipython3",
   "version": "3.10.4"
  }
 },
 "nbformat": 4,
 "nbformat_minor": 5
}
