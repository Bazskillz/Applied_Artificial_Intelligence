{
 "cells": [
  {
   "cell_type": "code",
   "execution_count": 7,
   "metadata": {
    "collapsed": true
   },
   "outputs": [],
   "source": [
    "import pandas as pd\n",
    "import matplotlib.pyplot as plt\n",
    "import seaborn as sns\n",
    "\n",
    "import scipy.stats as stats\n",
    "import statsmodels.api as sm\n",
    "from statsmodels.formula.api import ols\n",
    "\n",
    "from bioinfokit.analys import stat\n",
    "\n",
    "%matplotlib inline\n",
    "\n"
   ]
  },
  {
   "cell_type": "code",
   "execution_count": 17,
   "outputs": [
    {
     "data": {
      "text/plain": "<Figure size 432x288 with 1 Axes>",
      "image/png": "[encoded data removed]"
     },
     "metadata": {
      "needs_background": "light"
     },
     "output_type": "display_data"
    }
   ],
   "source": [
    "# load data file\n",
    "df = pd.read_csv(\"../dataset/owanova.txt\", sep = \"\\t\")\n",
    "\n",
    "# reshape wide to long for stats library\n",
    "long_format_df = pd.melt(df.reset_index(), id_vars = ['index'], value_vars = ['A1', 'B2', 'C3', 'D4'])\n",
    "\n",
    "# Column names\n",
    "long_format_df.columns = ['index', 'type', 'value']\n",
    "\n",
    "# generate a boxplot to see the data distribution by treatments. Using boxplot, we can\n",
    "# easily detect the differences between different treatments\n",
    "\n",
    "ax = sns.boxplot(x = 'type', y='value', data = long_format_df, color='#0b03fc')\n",
    "ax = sns.swarmplot(x = \"type\", y=\"value\", data = long_format_df, color='#db03fc')\n",
    "plt.show()"
   ],
   "metadata": {
    "collapsed": false,
    "pycharm": {
     "name": "#%%\n"
    }
   }
  },
  {
   "cell_type": "code",
   "execution_count": 9,
   "outputs": [
    {
     "name": "stdout",
     "output_type": "stream",
     "text": [
      "17.492810457516338 2.639241146210922e-05\n"
     ]
    },
    {
     "data": {
      "text/plain": "            df   sum_sq   mean_sq         F    PR(>F)\nC(type)    3.0  3010.95  1003.650  17.49281  0.000026\nResidual  16.0   918.00    57.375       NaN       NaN",
      "text/html": "<div>\n<style scoped>\n    .dataframe tbody tr th:only-of-type {\n        vertical-align: middle;\n    }\n\n    .dataframe tbody tr th {\n        vertical-align: top;\n    }\n\n    .dataframe thead th {\n        text-align: right;\n    }\n</style>\n<table border=\"1\" class=\"dataframe\">\n  <thead>\n    <tr style=\"text-align: right;\">\n      <th></th>\n      <th>df</th>\n      <th>sum_sq</th>\n      <th>mean_sq</th>\n      <th>F</th>\n      <th>PR(&gt;F)</th>\n    </tr>\n  </thead>\n  <tbody>\n    <tr>\n      <th>C(type)</th>\n      <td>3.0</td>\n      <td>3010.95</td>\n      <td>1003.650</td>\n      <td>17.49281</td>\n      <td>0.000026</td>\n    </tr>\n    <tr>\n      <th>Residual</th>\n      <td>16.0</td>\n      <td>918.00</td>\n      <td>57.375</td>\n      <td>NaN</td>\n      <td>NaN</td>\n    </tr>\n  </tbody>\n</table>\n</div>"
     },
     "execution_count": 9,
     "metadata": {},
     "output_type": "execute_result"
    }
   ],
   "source": [
    "# stats f_oneway functions takes the groups as input and returns ANOVA F and p value\n",
    "fvalue, pvalue = stats.f_oneway(df['A1'], df['B2'], df['C3'], df['D4'])\n",
    "print(fvalue, pvalue)\n",
    "\n",
    "# get ANOVA table\n",
    "\n",
    "# Ordinary Least Squares (OLS) model\n",
    "model = ols('value ~ C(type)', data = long_format_df).fit()\n",
    "anova_table = sm.stats.anova_lm(model, typ = 2)\n",
    "anova_table\n",
    "\n",
    "res = stat()\n",
    "res.anova_stat(df = long_format_df, res_var = 'value', anova_model = 'value ~ C(type)')\n",
    "res.anova_summary"
   ],
   "metadata": {
    "collapsed": false,
    "pycharm": {
     "name": "#%%\n"
    }
   }
  },
  {
   "cell_type": "code",
   "execution_count": 10,
   "outputs": [
    {
     "data": {
      "text/plain": "            df   sum_sq   mean_sq         F    PR(>F)\nC(type)    3.0  3010.95  1003.650  17.49281  0.000026\nResidual  16.0   918.00    57.375       NaN       NaN",
      "text/html": "<div>\n<style scoped>\n    .dataframe tbody tr th:only-of-type {\n        vertical-align: middle;\n    }\n\n    .dataframe tbody tr th {\n        vertical-align: top;\n    }\n\n    .dataframe thead th {\n        text-align: right;\n    }\n</style>\n<table border=\"1\" class=\"dataframe\">\n  <thead>\n    <tr style=\"text-align: right;\">\n      <th></th>\n      <th>df</th>\n      <th>sum_sq</th>\n      <th>mean_sq</th>\n      <th>F</th>\n      <th>PR(&gt;F)</th>\n    </tr>\n  </thead>\n  <tbody>\n    <tr>\n      <th>C(type)</th>\n      <td>3.0</td>\n      <td>3010.95</td>\n      <td>1003.650</td>\n      <td>17.49281</td>\n      <td>0.000026</td>\n    </tr>\n    <tr>\n      <th>Residual</th>\n      <td>16.0</td>\n      <td>918.00</td>\n      <td>57.375</td>\n      <td>NaN</td>\n      <td>NaN</td>\n    </tr>\n  </tbody>\n</table>\n</div>"
     },
     "execution_count": 10,
     "metadata": {},
     "output_type": "execute_result"
    }
   ],
   "source": [
    "res.anova_summary"
   ],
   "metadata": {
    "collapsed": false,
    "pycharm": {
     "name": "#%%\n"
    }
   }
  },
  {
   "cell_type": "code",
   "execution_count": 10,
   "outputs": [],
   "source": [],
   "metadata": {
    "collapsed": false,
    "pycharm": {
     "name": "#%%\n"
    }
   }
  }
 ],
 "metadata": {
  "kernelspec": {
   "display_name": "Python 3",
   "language": "python",
   "name": "python3"
  },
  "language_info": {
   "codemirror_mode": {
    "name": "ipython",
    "version": 2
   },
   "file_extension": ".py",
   "mimetype": "text/x-python",
   "name": "python",
   "nbconvert_exporter": "python",
   "pygments_lexer": "ipython2",
   "version": "2.7.6"
  }
 },
 "nbformat": 4,
 "nbformat_minor": 0
}