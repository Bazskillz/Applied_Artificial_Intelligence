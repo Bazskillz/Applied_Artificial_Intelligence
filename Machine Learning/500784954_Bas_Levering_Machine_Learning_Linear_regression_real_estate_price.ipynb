{
 "cells": [
  {
   "cell_type": "code",
   "execution_count": 27,
   "id": "6324310f",
   "metadata": {},
   "outputs": [],
   "source": [
    "import numpy as np\n",
    "import pandas as pd\n",
    "import seaborn as sns\n",
    "\n",
    "import matplotlib.pyplot as plt\n",
    "\n",
    "from sklearn.model_selection import train_test_split\n",
    "from sklearn.linear_model import LinearRegression\n"
   ]
  },
  {
   "cell_type": "markdown",
   "id": "e94b2e6e",
   "metadata": {},
   "source": [
    "## De data inlezen en bekijken"
   ]
  },
  {
   "cell_type": "code",
   "execution_count": 28,
   "id": "a269a46d",
   "metadata": {},
   "outputs": [],
   "source": [
    "data = pd.read_csv('../dataset/real_estate.csv')"
   ]
  },
  {
   "cell_type": "code",
   "execution_count": 29,
   "id": "de3f2505",
   "metadata": {},
   "outputs": [
    {
     "data": {
      "text/html": [
       "<div>\n",
       "<style scoped>\n",
       "    .dataframe tbody tr th:only-of-type {\n",
       "        vertical-align: middle;\n",
       "    }\n",
       "\n",
       "    .dataframe tbody tr th {\n",
       "        vertical-align: top;\n",
       "    }\n",
       "\n",
       "    .dataframe thead th {\n",
       "        text-align: right;\n",
       "    }\n",
       "</style>\n",
       "<table border=\"1\" class=\"dataframe\">\n",
       "  <thead>\n",
       "    <tr style=\"text-align: right;\">\n",
       "      <th></th>\n",
       "      <th>No</th>\n",
       "      <th>X1 transaction date</th>\n",
       "      <th>X2 house age</th>\n",
       "      <th>X3 distance to the nearest MRT station</th>\n",
       "      <th>X4 number of convenience stores</th>\n",
       "      <th>X5 latitude</th>\n",
       "      <th>X6 longitude</th>\n",
       "      <th>Y house price of unit area</th>\n",
       "    </tr>\n",
       "  </thead>\n",
       "  <tbody>\n",
       "    <tr>\n",
       "      <th>count</th>\n",
       "      <td>414.000000</td>\n",
       "      <td>414.000000</td>\n",
       "      <td>414.000000</td>\n",
       "      <td>414.000000</td>\n",
       "      <td>414.000000</td>\n",
       "      <td>414.000000</td>\n",
       "      <td>414.000000</td>\n",
       "      <td>414.000000</td>\n",
       "    </tr>\n",
       "    <tr>\n",
       "      <th>mean</th>\n",
       "      <td>207.500000</td>\n",
       "      <td>2013.148971</td>\n",
       "      <td>17.712560</td>\n",
       "      <td>1083.885689</td>\n",
       "      <td>4.094203</td>\n",
       "      <td>24.969030</td>\n",
       "      <td>121.533361</td>\n",
       "      <td>37.980193</td>\n",
       "    </tr>\n",
       "    <tr>\n",
       "      <th>std</th>\n",
       "      <td>119.655756</td>\n",
       "      <td>0.281967</td>\n",
       "      <td>11.392485</td>\n",
       "      <td>1262.109595</td>\n",
       "      <td>2.945562</td>\n",
       "      <td>0.012410</td>\n",
       "      <td>0.015347</td>\n",
       "      <td>13.606488</td>\n",
       "    </tr>\n",
       "    <tr>\n",
       "      <th>min</th>\n",
       "      <td>1.000000</td>\n",
       "      <td>2012.667000</td>\n",
       "      <td>0.000000</td>\n",
       "      <td>23.382840</td>\n",
       "      <td>0.000000</td>\n",
       "      <td>24.932070</td>\n",
       "      <td>121.473530</td>\n",
       "      <td>7.600000</td>\n",
       "    </tr>\n",
       "    <tr>\n",
       "      <th>25%</th>\n",
       "      <td>104.250000</td>\n",
       "      <td>2012.917000</td>\n",
       "      <td>9.025000</td>\n",
       "      <td>289.324800</td>\n",
       "      <td>1.000000</td>\n",
       "      <td>24.963000</td>\n",
       "      <td>121.528085</td>\n",
       "      <td>27.700000</td>\n",
       "    </tr>\n",
       "    <tr>\n",
       "      <th>50%</th>\n",
       "      <td>207.500000</td>\n",
       "      <td>2013.167000</td>\n",
       "      <td>16.100000</td>\n",
       "      <td>492.231300</td>\n",
       "      <td>4.000000</td>\n",
       "      <td>24.971100</td>\n",
       "      <td>121.538630</td>\n",
       "      <td>38.450000</td>\n",
       "    </tr>\n",
       "    <tr>\n",
       "      <th>75%</th>\n",
       "      <td>310.750000</td>\n",
       "      <td>2013.417000</td>\n",
       "      <td>28.150000</td>\n",
       "      <td>1454.279000</td>\n",
       "      <td>6.000000</td>\n",
       "      <td>24.977455</td>\n",
       "      <td>121.543305</td>\n",
       "      <td>46.600000</td>\n",
       "    </tr>\n",
       "    <tr>\n",
       "      <th>max</th>\n",
       "      <td>414.000000</td>\n",
       "      <td>2013.583000</td>\n",
       "      <td>43.800000</td>\n",
       "      <td>6488.021000</td>\n",
       "      <td>10.000000</td>\n",
       "      <td>25.014590</td>\n",
       "      <td>121.566270</td>\n",
       "      <td>117.500000</td>\n",
       "    </tr>\n",
       "  </tbody>\n",
       "</table>\n",
       "</div>"
      ],
      "text/plain": [
       "               No  X1 transaction date  X2 house age  \\\n",
       "count  414.000000           414.000000    414.000000   \n",
       "mean   207.500000          2013.148971     17.712560   \n",
       "std    119.655756             0.281967     11.392485   \n",
       "min      1.000000          2012.667000      0.000000   \n",
       "25%    104.250000          2012.917000      9.025000   \n",
       "50%    207.500000          2013.167000     16.100000   \n",
       "75%    310.750000          2013.417000     28.150000   \n",
       "max    414.000000          2013.583000     43.800000   \n",
       "\n",
       "       X3 distance to the nearest MRT station  \\\n",
       "count                              414.000000   \n",
       "mean                              1083.885689   \n",
       "std                               1262.109595   \n",
       "min                                 23.382840   \n",
       "25%                                289.324800   \n",
       "50%                                492.231300   \n",
       "75%                               1454.279000   \n",
       "max                               6488.021000   \n",
       "\n",
       "       X4 number of convenience stores  X5 latitude  X6 longitude  \\\n",
       "count                       414.000000   414.000000    414.000000   \n",
       "mean                          4.094203    24.969030    121.533361   \n",
       "std                           2.945562     0.012410      0.015347   \n",
       "min                           0.000000    24.932070    121.473530   \n",
       "25%                           1.000000    24.963000    121.528085   \n",
       "50%                           4.000000    24.971100    121.538630   \n",
       "75%                           6.000000    24.977455    121.543305   \n",
       "max                          10.000000    25.014590    121.566270   \n",
       "\n",
       "       Y house price of unit area  \n",
       "count                  414.000000  \n",
       "mean                    37.980193  \n",
       "std                     13.606488  \n",
       "min                      7.600000  \n",
       "25%                     27.700000  \n",
       "50%                     38.450000  \n",
       "75%                     46.600000  \n",
       "max                    117.500000  "
      ]
     },
     "execution_count": 29,
     "metadata": {},
     "output_type": "execute_result"
    }
   ],
   "source": [
    "data.describe()"
   ]
  },
  {
   "cell_type": "code",
   "execution_count": 30,
   "id": "89d1f1b7",
   "metadata": {},
   "outputs": [
    {
     "data": {
      "text/plain": [
       "<bound method DataFrame.info of       No  X1 transaction date  X2 house age  \\\n",
       "0      1             2012.917          32.0   \n",
       "1      2             2012.917          19.5   \n",
       "2      3             2013.583          13.3   \n",
       "3      4             2013.500          13.3   \n",
       "4      5             2012.833           5.0   \n",
       "..   ...                  ...           ...   \n",
       "409  410             2013.000          13.7   \n",
       "410  411             2012.667           5.6   \n",
       "411  412             2013.250          18.8   \n",
       "412  413             2013.000           8.1   \n",
       "413  414             2013.500           6.5   \n",
       "\n",
       "     X3 distance to the nearest MRT station  X4 number of convenience stores  \\\n",
       "0                                  84.87882                               10   \n",
       "1                                 306.59470                                9   \n",
       "2                                 561.98450                                5   \n",
       "3                                 561.98450                                5   \n",
       "4                                 390.56840                                5   \n",
       "..                                      ...                              ...   \n",
       "409                              4082.01500                                0   \n",
       "410                                90.45606                                9   \n",
       "411                               390.96960                                7   \n",
       "412                               104.81010                                5   \n",
       "413                                90.45606                                9   \n",
       "\n",
       "     X5 latitude  X6 longitude  Y house price of unit area  \n",
       "0       24.98298     121.54024                        37.9  \n",
       "1       24.98034     121.53951                        42.2  \n",
       "2       24.98746     121.54391                        47.3  \n",
       "3       24.98746     121.54391                        54.8  \n",
       "4       24.97937     121.54245                        43.1  \n",
       "..           ...           ...                         ...  \n",
       "409     24.94155     121.50381                        15.4  \n",
       "410     24.97433     121.54310                        50.0  \n",
       "411     24.97923     121.53986                        40.6  \n",
       "412     24.96674     121.54067                        52.5  \n",
       "413     24.97433     121.54310                        63.9  \n",
       "\n",
       "[414 rows x 8 columns]>"
      ]
     },
     "execution_count": 30,
     "metadata": {},
     "output_type": "execute_result"
    }
   ],
   "source": [
    "data.info"
   ]
  },
  {
   "cell_type": "markdown",
   "id": "6b4a8658",
   "metadata": {},
   "source": [
    "## Verdeelde de dataset in train en test"
   ]
  },
  {
   "cell_type": "code",
   "execution_count": 31,
   "id": "3ad9d305",
   "metadata": {},
   "outputs": [
    {
     "data": {
      "text/plain": [
       "0      37.9\n",
       "1      42.2\n",
       "2      47.3\n",
       "3      54.8\n",
       "4      43.1\n",
       "       ... \n",
       "409    15.4\n",
       "410    50.0\n",
       "411    40.6\n",
       "412    52.5\n",
       "413    63.9\n",
       "Name: Y house price of unit area, Length: 414, dtype: float64"
      ]
     },
     "execution_count": 31,
     "metadata": {},
     "output_type": "execute_result"
    }
   ],
   "source": [
    "X = data.drop('Y house price of unit area', axis=1)\n",
    "\n",
    "y= data['Y house price of unit area']\n",
    "\n",
    "y"
   ]
  },
  {
   "cell_type": "code",
   "execution_count": 32,
   "id": "c39d3c7a",
   "metadata": {},
   "outputs": [],
   "source": [
    "X_train, X_test, y_train, y_test = train_test_split(X, y, test_size=0.3, random_state=420)"
   ]
  },
  {
   "cell_type": "markdown",
   "id": "ede381fe",
   "metadata": {},
   "source": [
    "## Train het model"
   ]
  },
  {
   "cell_type": "code",
   "execution_count": 33,
   "id": "9010ad78",
   "metadata": {},
   "outputs": [
    {
     "data": {
      "text/plain": [
       "LinearRegression()"
      ]
     },
     "execution_count": 33,
     "metadata": {},
     "output_type": "execute_result"
    }
   ],
   "source": [
    "clr = LinearRegression()\n",
    "clr.fit(X_train, y_train)"
   ]
  },
  {
   "cell_type": "code",
   "execution_count": 34,
   "id": "1e50a15e",
   "metadata": {},
   "outputs": [
    {
     "data": {
      "text/html": [
       "<div>\n",
       "<style scoped>\n",
       "    .dataframe tbody tr th:only-of-type {\n",
       "        vertical-align: middle;\n",
       "    }\n",
       "\n",
       "    .dataframe tbody tr th {\n",
       "        vertical-align: top;\n",
       "    }\n",
       "\n",
       "    .dataframe thead th {\n",
       "        text-align: right;\n",
       "    }\n",
       "</style>\n",
       "<table border=\"1\" class=\"dataframe\">\n",
       "  <thead>\n",
       "    <tr style=\"text-align: right;\">\n",
       "      <th></th>\n",
       "      <th>coeficient</th>\n",
       "    </tr>\n",
       "  </thead>\n",
       "  <tbody>\n",
       "    <tr>\n",
       "      <th>No</th>\n",
       "      <td>-0.004113</td>\n",
       "    </tr>\n",
       "    <tr>\n",
       "      <th>X1 transaction date</th>\n",
       "      <td>5.110892</td>\n",
       "    </tr>\n",
       "    <tr>\n",
       "      <th>X2 house age</th>\n",
       "      <td>-0.251042</td>\n",
       "    </tr>\n",
       "    <tr>\n",
       "      <th>X3 distance to the nearest MRT station</th>\n",
       "      <td>-0.005408</td>\n",
       "    </tr>\n",
       "    <tr>\n",
       "      <th>X4 number of convenience stores</th>\n",
       "      <td>0.799579</td>\n",
       "    </tr>\n",
       "    <tr>\n",
       "      <th>X5 latitude</th>\n",
       "      <td>234.736129</td>\n",
       "    </tr>\n",
       "    <tr>\n",
       "      <th>X6 longitude</th>\n",
       "      <td>-20.524926</td>\n",
       "    </tr>\n",
       "  </tbody>\n",
       "</table>\n",
       "</div>"
      ],
      "text/plain": [
       "                                        coeficient\n",
       "No                                       -0.004113\n",
       "X1 transaction date                       5.110892\n",
       "X2 house age                             -0.251042\n",
       "X3 distance to the nearest MRT station   -0.005408\n",
       "X4 number of convenience stores           0.799579\n",
       "X5 latitude                             234.736129\n",
       "X6 longitude                            -20.524926"
      ]
     },
     "execution_count": 34,
     "metadata": {},
     "output_type": "execute_result"
    }
   ],
   "source": [
    "pd.DataFrame(clr.coef_, X.columns, columns=['coeficient'])\n"
   ]
  },
  {
   "cell_type": "code",
   "execution_count": 35,
   "id": "d4d23646",
   "metadata": {},
   "outputs": [],
   "source": [
    "## voorspellingen maken"
   ]
  },
  {
   "cell_type": "code",
   "execution_count": 36,
   "id": "e2033e06",
   "metadata": {},
   "outputs": [
    {
     "data": {
      "text/html": [
       "<div>\n",
       "<style scoped>\n",
       "    .dataframe tbody tr th:only-of-type {\n",
       "        vertical-align: middle;\n",
       "    }\n",
       "\n",
       "    .dataframe tbody tr th {\n",
       "        vertical-align: top;\n",
       "    }\n",
       "\n",
       "    .dataframe thead th {\n",
       "        text-align: right;\n",
       "    }\n",
       "</style>\n",
       "<table border=\"1\" class=\"dataframe\">\n",
       "  <thead>\n",
       "    <tr style=\"text-align: right;\">\n",
       "      <th></th>\n",
       "      <th>Y_test</th>\n",
       "      <th>Y_pred</th>\n",
       "    </tr>\n",
       "  </thead>\n",
       "  <tbody>\n",
       "    <tr>\n",
       "      <th>41</th>\n",
       "      <td>18.2</td>\n",
       "      <td>15.810598</td>\n",
       "    </tr>\n",
       "    <tr>\n",
       "      <th>394</th>\n",
       "      <td>24.7</td>\n",
       "      <td>13.888426</td>\n",
       "    </tr>\n",
       "    <tr>\n",
       "      <th>405</th>\n",
       "      <td>37.2</td>\n",
       "      <td>37.085399</td>\n",
       "    </tr>\n",
       "    <tr>\n",
       "      <th>342</th>\n",
       "      <td>53.5</td>\n",
       "      <td>48.348456</td>\n",
       "    </tr>\n",
       "    <tr>\n",
       "      <th>398</th>\n",
       "      <td>23.0</td>\n",
       "      <td>33.528956</td>\n",
       "    </tr>\n",
       "  </tbody>\n",
       "</table>\n",
       "</div>"
      ],
      "text/plain": [
       "     Y_test     Y_pred\n",
       "41     18.2  15.810598\n",
       "394    24.7  13.888426\n",
       "405    37.2  37.085399\n",
       "342    53.5  48.348456\n",
       "398    23.0  33.528956"
      ]
     },
     "execution_count": 36,
     "metadata": {},
     "output_type": "execute_result"
    }
   ],
   "source": [
    "y_pred= clr.predict(X_test)\n",
    "pd.DataFrame({'Y_test':y_test, 'Y_pred':y_pred}).head()\n"
   ]
  },
  {
   "cell_type": "code",
   "execution_count": 38,
   "id": "4621f201",
   "metadata": {},
   "outputs": [
    {
     "data": {
      "text/plain": [
       "<seaborn.axisgrid.FacetGrid at 0x7c83fc5d1a30>"
      ]
     },
     "execution_count": 38,
     "metadata": {},
     "output_type": "execute_result"
    },
    {
     "data": {
      "image/png": "[encoded data removed]",
      "text/plain": [
       "<Figure size 360x360 with 1 Axes>"
      ]
     },
     "metadata": {
      "needs_background": "light"
     },
     "output_type": "display_data"
    }
   ],
   "source": [
    "test_minus_pred = y_test - y_pred\n",
    "\n",
    "sns.displot(test_minus_pred, bins=25, kde=True)\n",
    "\n"
   ]
  },
  {
   "cell_type": "code",
   "execution_count": 44,
   "id": "2399d8d7",
   "metadata": {},
   "outputs": [
    {
     "data": {
      "text/plain": [
       "<matplotlib.lines.Line2D at 0x7c83f541f7f0>"
      ]
     },
     "execution_count": 44,
     "metadata": {},
     "output_type": "execute_result"
    },
    {
     "data": {
      "image/png": "[encoded data removed]",
      "text/plain": [
       "<Figure size 432x288 with 1 Axes>"
      ]
     },
     "metadata": {
      "needs_background": "light"
     },
     "output_type": "display_data"
    }
   ],
   "source": [
    "sns.scatterplot(x=y_test, y=y_pred)\n",
    "\n",
    "plt.axhline(y=30, ls=':')"
   ]
  },
  {
   "cell_type": "code",
   "execution_count": null,
   "id": "68462b12",
   "metadata": {},
   "outputs": [],
   "source": []
  }
 ],
 "metadata": {
  "kernelspec": {
   "display_name": "Python 3 (ipykernel)",
   "language": "python",
   "name": "python3"
  },
  "language_info": {
   "codemirror_mode": {
    "name": "ipython",
    "version": 3
   },
   "file_extension": ".py",
   "mimetype": "text/x-python",
   "name": "python",
   "nbconvert_exporter": "python",
   "pygments_lexer": "ipython3",
   "version": "3.9.2"
  }
 },
 "nbformat": 4,
 "nbformat_minor": 5
}
