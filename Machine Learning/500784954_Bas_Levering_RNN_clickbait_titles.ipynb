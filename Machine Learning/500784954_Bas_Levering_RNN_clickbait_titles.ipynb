{
 "cells": [
  {
   "cell_type": "markdown",
   "id": "5a22290c",
   "metadata": {},
   "source": [
    "500784954 Bas Levering Recurrent Neural Network"
   ]
  },
  {
   "cell_type": "markdown",
   "id": "4c19ffe1",
   "metadata": {},
   "source": [
    "## Clickbait title detection.\n",
    "Given is a labeled dataset containing the description of an article, using text analysis we are going to classify these titles to determine if they are clickbait or not clickbait, 1 or 0. We'll be using a recurrent neural network to acomplish this."
   ]
  },
  {
   "cell_type": "code",
   "execution_count": 18,
   "id": "ba3332f0",
   "metadata": {},
   "outputs": [],
   "source": [
    "# libraries\n",
    "\n",
    "from IPython.display import display \n",
    "# math\n",
    "import pandas as pd\n",
    "import numpy as np\n",
    "import matplotlib.pyplot as plt\n",
    "# tensorflow\n",
    "from tensorflow.keras.layers import Embedding, Dense, LSTM, Dropout, GlobalMaxPooling1D\n",
    "from tensorflow.keras.models import Sequential\n",
    "from tensorflow.keras.preprocessing.sequence import pad_sequences\n",
    "from tensorflow.keras.preprocessing.text import Tokenizer\n",
    "from tensorflow.keras.callbacks import ModelCheckpoint, EarlyStopping\n",
    "\n",
    "#Sklearn\n",
    "from sklearn.model_selection import train_test_split\n",
    "from sklearn.feature_extraction.text import CountVectorizer\n",
    "from sklearn.metrics import confusion_matrix"
   ]
  },
  {
   "cell_type": "code",
   "execution_count": 19,
   "id": "b6d70b91",
   "metadata": {},
   "outputs": [
    {
     "data": {
      "text/html": [
       "<div>\n",
       "<style scoped>\n",
       "    .dataframe tbody tr th:only-of-type {\n",
       "        vertical-align: middle;\n",
       "    }\n",
       "\n",
       "    .dataframe tbody tr th {\n",
       "        vertical-align: top;\n",
       "    }\n",
       "\n",
       "    .dataframe thead th {\n",
       "        text-align: right;\n",
       "    }\n",
       "</style>\n",
       "<table border=\"1\" class=\"dataframe\">\n",
       "  <thead>\n",
       "    <tr style=\"text-align: right;\">\n",
       "      <th></th>\n",
       "      <th>headline</th>\n",
       "      <th>clickbait</th>\n",
       "    </tr>\n",
       "  </thead>\n",
       "  <tbody>\n",
       "    <tr>\n",
       "      <th>0</th>\n",
       "      <td>Should I Get Bings</td>\n",
       "      <td>1</td>\n",
       "    </tr>\n",
       "    <tr>\n",
       "      <th>1</th>\n",
       "      <td>Which TV Female Friend Group Do You Belong In</td>\n",
       "      <td>1</td>\n",
       "    </tr>\n",
       "    <tr>\n",
       "      <th>2</th>\n",
       "      <td>The New \"Star Wars: The Force Awakens\" Trailer...</td>\n",
       "      <td>1</td>\n",
       "    </tr>\n",
       "    <tr>\n",
       "      <th>3</th>\n",
       "      <td>This Vine Of New York On \"Celebrity Big Brothe...</td>\n",
       "      <td>1</td>\n",
       "    </tr>\n",
       "    <tr>\n",
       "      <th>4</th>\n",
       "      <td>A Couple Did A Stunning Photo Shoot With Their...</td>\n",
       "      <td>1</td>\n",
       "    </tr>\n",
       "  </tbody>\n",
       "</table>\n",
       "</div>"
      ],
      "text/plain": [
       "                                            headline  clickbait\n",
       "0                                 Should I Get Bings          1\n",
       "1      Which TV Female Friend Group Do You Belong In          1\n",
       "2  The New \"Star Wars: The Force Awakens\" Trailer...          1\n",
       "3  This Vine Of New York On \"Celebrity Big Brothe...          1\n",
       "4  A Couple Did A Stunning Photo Shoot With Their...          1"
      ]
     },
     "execution_count": 19,
     "metadata": {},
     "output_type": "execute_result"
    }
   ],
   "source": [
    "# Import the dataset\n",
    "\n",
    "df = pd.read_csv('../dataset/clickbait.csv')\n",
    "df.head()"
   ]
  },
  {
   "cell_type": "code",
   "execution_count": 20,
   "id": "b911428c",
   "metadata": {},
   "outputs": [
    {
     "name": "stdout",
     "output_type": "stream",
     "text": [
      "(24000,) (8000,) (24000,) (8000,)\n"
     ]
    }
   ],
   "source": [
    "# Split in train and test set.\n",
    "\n",
    "X_train, X_val, y_train, y_val = train_test_split(df['headline'].values, df['clickbait'].values, random_state = 420)\n",
    "\n",
    "print(X_train.shape, X_val.shape, y_train.shape, y_val.shape)"
   ]
  },
  {
   "cell_type": "code",
   "execution_count": 21,
   "id": "55253dd9",
   "metadata": {},
   "outputs": [],
   "source": [
    "tokenizer = Tokenizer(num_words=4000)\n",
    "tokenizer.fit_on_texts(df['headline'].values)\n",
    "\n",
    "X_train = tokenizer.texts_to_sequences(X_train)\n",
    "X_val = tokenizer.texts_to_sequences(X_val)\n",
    "\n",
    "X_train = pad_sequences(X_train, 420)\n",
    "X_val = pad_sequences(X_val, 420)"
   ]
  },
  {
   "cell_type": "markdown",
   "id": "c6f9123d",
   "metadata": {},
   "source": [
    "## Setup the model"
   ]
  },
  {
   "cell_type": "code",
   "execution_count": 22,
   "id": "35159791",
   "metadata": {},
   "outputs": [
    {
     "data": {
      "text/plain": [
       "'1.19.2'"
      ]
     },
     "execution_count": 22,
     "metadata": {},
     "output_type": "execute_result"
    }
   ],
   "source": [
    "np.__version__"
   ]
  },
  {
   "cell_type": "code",
   "execution_count": 23,
   "id": "13de1ef4",
   "metadata": {},
   "outputs": [
    {
     "name": "stdout",
     "output_type": "stream",
     "text": [
      "Model: \"sequential_2\"\n",
      "_________________________________________________________________\n",
      "Layer (type)                 Output Shape              Param #   \n",
      "=================================================================\n",
      "embedding_2 (Embedding)      (None, 420, 32)           128000    \n",
      "_________________________________________________________________\n",
      "lstm_2 (LSTM)                (None, 420, 32)           8320      \n",
      "_________________________________________________________________\n",
      "global_max_pooling1d_2 (Glob (None, 32)                0         \n",
      "_________________________________________________________________\n",
      "dropout_2 (Dropout)          (None, 32)                0         \n",
      "_________________________________________________________________\n",
      "dense_2 (Dense)              (None, 1)                 33        \n",
      "=================================================================\n",
      "Total params: 136,353\n",
      "Trainable params: 136,353\n",
      "Non-trainable params: 0\n",
      "_________________________________________________________________\n"
     ]
    }
   ],
   "source": [
    "model = Sequential()\n",
    "\n",
    "model.add(Embedding(4000, 32, input_length=420))\n",
    "model.add(LSTM(32, return_sequences=True))\n",
    "\n",
    "model.add(GlobalMaxPooling1D())\n",
    "model.add(Dropout(0.2))\n",
    "\n",
    "model.add(Dense(1, activation='sigmoid'))\n",
    "model.summary()"
   ]
  },
  {
   "cell_type": "code",
   "execution_count": 27,
   "id": "b6552a1c",
   "metadata": {},
   "outputs": [
    {
     "name": "stdout",
     "output_type": "stream",
     "text": [
      "Epoch 1/10\n",
      "47/47 [==============================] - 166s 3s/step - loss: 1.0041 - accuracy: 0.5015 - val_loss: 0.9990 - val_accuracy: 0.4901\n",
      "\n",
      "Epoch 00001: val_accuracy improved from -inf to 0.49013, saving model to ../models/model.h5\n",
      "Epoch 2/10\n",
      "47/47 [==============================] - 132s 3s/step - loss: 0.9980 - accuracy: 0.5021 - val_loss: 0.9703 - val_accuracy: 0.4901\n",
      "\n",
      "Epoch 00002: val_accuracy did not improve from 0.49013\n",
      "Epoch 3/10\n",
      "47/47 [==============================] - 136s 3s/step - loss: 0.9430 - accuracy: 0.5099 - val_loss: 0.8538 - val_accuracy: 0.4901\n",
      "\n",
      "Epoch 00003: val_accuracy did not improve from 0.49013\n",
      "Epoch 4/10\n",
      "47/47 [==============================] - 306s 7s/step - loss: 0.8057 - accuracy: 0.6606 - val_loss: 0.6874 - val_accuracy: 0.9245\n",
      "\n",
      "Epoch 00004: val_accuracy improved from 0.49013 to 0.92450, saving model to ../models/model.h5\n",
      "Epoch 5/10\n",
      "47/47 [==============================] - 136s 3s/step - loss: 0.6875 - accuracy: 0.9053 - val_loss: 0.6109 - val_accuracy: 0.9557\n",
      "\n",
      "Epoch 00005: val_accuracy improved from 0.92450 to 0.95575, saving model to ../models/model.h5\n",
      "Epoch 6/10\n",
      "47/47 [==============================] - 143s 3s/step - loss: 0.6190 - accuracy: 0.9560 - val_loss: 0.5789 - val_accuracy: 0.9599\n",
      "\n",
      "Epoch 00006: val_accuracy improved from 0.95575 to 0.95987, saving model to ../models/model.h5\n",
      "Epoch 7/10\n",
      "47/47 [==============================] - 139s 3s/step - loss: 0.5817 - accuracy: 0.9686 - val_loss: 0.5632 - val_accuracy: 0.9656\n",
      "\n",
      "Epoch 00007: val_accuracy improved from 0.95987 to 0.96562, saving model to ../models/model.h5\n",
      "Epoch 8/10\n",
      "47/47 [==============================] - 153s 3s/step - loss: 0.5827 - accuracy: 0.9720 - val_loss: 0.5555 - val_accuracy: 0.9649\n",
      "\n",
      "Epoch 00008: val_accuracy did not improve from 0.96562\n",
      "Epoch 9/10\n",
      "47/47 [==============================] - 201s 4s/step - loss: 0.5534 - accuracy: 0.9786 - val_loss: 0.5473 - val_accuracy: 0.9645\n",
      "\n",
      "Epoch 00009: val_accuracy did not improve from 0.96562\n",
      "Epoch 10/10\n",
      "47/47 [==============================] - 178s 4s/step - loss: 0.5456 - accuracy: 0.9811 - val_loss: 0.5442 - val_accuracy: 0.9654\n",
      "\n",
      "Epoch 00010: val_accuracy did not improve from 0.96562\n",
      "Epoch 00010: early stopping\n"
     ]
    }
   ],
   "source": [
    "Early_stopping_callbacks = [\n",
    "    EarlyStopping(\n",
    "        monitor = 'val_accuracy',\n",
    "        verbose = 1,\n",
    "        patience = 3,\n",
    "        min_delta = 1e-4,\n",
    "    ),\n",
    "    ModelCheckpoint(\n",
    "        filepath='../models/model.h5',\n",
    "        mode='max', \n",
    "        monitor='val_accuracy', \n",
    "        save_weights_only = True,\n",
    "        save_best_only = True,\n",
    "        verbose=1\n",
    "    )\n",
    "]\n",
    "\n",
    "model.compile(loss='squared_hinge', optimizer='adam', metrics=['accuracy'])\n",
    "\n",
    "hist = model.fit(X_train, y_train, batch_size = 512, validation_data = (X_val, y_val), epochs=10, callbacks = Early_stopping_callbacks)\n",
    "\n"
   ]
  },
  {
   "cell_type": "code",
   "execution_count": 35,
   "id": "dabf17c0",
   "metadata": {},
   "outputs": [
    {
     "data": {
      "image/png": "[encoded data removed]",
      "text/plain": [
       "<Figure size 432x288 with 1 Axes>"
      ]
     },
     "metadata": {
      "needs_background": "light"
     },
     "output_type": "display_data"
    },
    {
     "data": {
      "image/png": "[encoded data removed]",
      "text/plain": [
       "<Figure size 432x288 with 1 Axes>"
      ]
     },
     "metadata": {
      "needs_background": "light"
     },
     "output_type": "display_data"
    }
   ],
   "source": [
    "acc = hist.history['accuracy']\n",
    "val_acc = hist.history['val_accuracy']\n",
    "\n",
    "loss = hist.history['loss']\n",
    "val_loss = hist.history['val_loss']\n",
    "\n",
    "epoch_count = range(len(acc))\n",
    "\n",
    "\n",
    "plt.plot(range(len(acc)), acc, 'bo', label = 'Train accuracy')\n",
    "plt.plot(range(len(acc)), val_acc, 'b', label = 'Validation accuracy')\n",
    "plt.title(' Train and validation accuracy')\n",
    "\n",
    "plt.legend()\n",
    "plt.figure()\n",
    "\n",
    "plt.plot(epoch_count, loss, 'bo', label=' Training loss')\n",
    "plt.plot(epoch_count, val_loss, 'b', label=' Validation loss')\n",
    "plt.title('Train and validation loss')\n",
    "\n",
    "plt.legend()\n",
    "plt.show()"
   ]
  },
  {
   "cell_type": "markdown",
   "id": "2a1c72c4",
   "metadata": {},
   "source": [
    "## Test examples"
   ]
  },
  {
   "cell_type": "markdown",
   "id": "b417b071",
   "metadata": {},
   "source": [
    "Lets try to predict some titles, we can gather these titles from youtube or socialmedia. We can determine ourselves if its clickbaity or not. "
   ]
  },
  {
   "cell_type": "code",
   "execution_count": 41,
   "id": "58259c34",
   "metadata": {},
   "outputs": [
    {
     "name": "stdout",
     "output_type": "stream",
     "text": [
      "We’re Not Allowed To Talk About This - non-clickbait title\n",
      "Why everyone HATES the Miama Grand Prix - clickbait title\n",
      "Do you have progressive Overload anxiety? - clickbait title\n",
      "Elon Musk's Insane New Twitter Update Changes Everything! - clickbait title\n"
     ]
    }
   ],
   "source": [
    "title_example_list = [\"We’re Not Allowed To Talk About This\", \"Why everyone HATES the Miama Grand Prix\", \"Do you have progressive Overload anxiety?\", \"Elon Musk's Insane New Twitter Update Changes Everything!\"]             \n",
    "token_txt = pad_sequences(tokenizer.texts_to_sequences(title_example_list), maxlen = 420)\n",
    "                      \n",
    "predictions = [round(i[0]) for i in model.predict(token_txt)]\n",
    "\n",
    "for (text, pred) in zip(title_example_list, predictions):\n",
    "    label = 'clickbait title' if pred == 1.0 else 'non-clickbait title'\n",
    "    print(\"{} - {}\".format(text, label))\n"
   ]
  },
  {
   "cell_type": "markdown",
   "id": "28d0d7be",
   "metadata": {},
   "source": [
    "### Evaluation\n",
    "\n",
    "We are doing binary classification, therefore we chose the softmax activationfunction.\n"
   ]
  },
  {
   "cell_type": "code",
   "execution_count": null,
   "id": "a1419cc3",
   "metadata": {},
   "outputs": [],
   "source": []
  }
 ],
 "metadata": {
  "kernelspec": {
   "display_name": "Python 3 (ipykernel)",
   "language": "python",
   "name": "python3"
  },
  "language_info": {
   "codemirror_mode": {
    "name": "ipython",
    "version": 3
   },
   "file_extension": ".py",
   "mimetype": "text/x-python",
   "name": "python",
   "nbconvert_exporter": "python",
   "pygments_lexer": "ipython3",
   "version": "3.9.7"
  }
 },
 "nbformat": 4,
 "nbformat_minor": 5
}
