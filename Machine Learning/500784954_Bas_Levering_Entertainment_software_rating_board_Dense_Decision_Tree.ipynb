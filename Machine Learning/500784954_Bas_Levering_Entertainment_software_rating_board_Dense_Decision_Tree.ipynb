{
 "cells": [
  {
   "cell_type": "markdown",
   "id": "28471693",
   "metadata": {},
   "source": [
    "This dataset contains the titles / features of games and their ratings."
   ]
  },
  {
   "cell_type": "code",
   "execution_count": 103,
   "id": "2131449f",
   "metadata": {},
   "outputs": [],
   "source": [
    "# Math\n",
    "import numpy as np\n",
    "import pandas as pd\n",
    "\n",
    "# Tensorflow\n",
    "from tensorflow.keras.layers import Dense\n",
    "from tensorflow.keras.models import Sequential\n",
    "\n",
    "# SKlearn\n",
    "from sklearn.model_selection import train_test_split\n",
    "from sklearn.tree import DecisionTreeClassifier\n",
    "\n",
    "# Plot graphs\n",
    "import matplotlib.pyplot as plt"
   ]
  },
  {
   "cell_type": "code",
   "execution_count": 104,
   "id": "46297490",
   "metadata": {},
   "outputs": [
    {
     "data": {
      "text/html": [
       "<div>\n",
       "<style scoped>\n",
       "    .dataframe tbody tr th:only-of-type {\n",
       "        vertical-align: middle;\n",
       "    }\n",
       "\n",
       "    .dataframe tbody tr th {\n",
       "        vertical-align: top;\n",
       "    }\n",
       "\n",
       "    .dataframe thead th {\n",
       "        text-align: right;\n",
       "    }\n",
       "</style>\n",
       "<table border=\"1\" class=\"dataframe\">\n",
       "  <thead>\n",
       "    <tr style=\"text-align: right;\">\n",
       "      <th></th>\n",
       "      <th>title</th>\n",
       "      <th>console</th>\n",
       "      <th>alcohol_reference</th>\n",
       "      <th>animated_blood</th>\n",
       "      <th>blood</th>\n",
       "      <th>blood_and_gore</th>\n",
       "      <th>cartoon_violence</th>\n",
       "      <th>crude_humor</th>\n",
       "      <th>drug_reference</th>\n",
       "      <th>fantasy_violence</th>\n",
       "      <th>...</th>\n",
       "      <th>sexual_content</th>\n",
       "      <th>sexual_themes</th>\n",
       "      <th>simulated_gambling</th>\n",
       "      <th>strong_janguage</th>\n",
       "      <th>strong_sexual_content</th>\n",
       "      <th>suggestive_themes</th>\n",
       "      <th>use_of_alcohol</th>\n",
       "      <th>use_of_drugs_and_alcohol</th>\n",
       "      <th>violence</th>\n",
       "      <th>esrb_rating</th>\n",
       "    </tr>\n",
       "  </thead>\n",
       "  <tbody>\n",
       "    <tr>\n",
       "      <th>0</th>\n",
       "      <td>Monster Jam Steel Titans 2</td>\n",
       "      <td>1</td>\n",
       "      <td>0</td>\n",
       "      <td>0</td>\n",
       "      <td>0</td>\n",
       "      <td>0</td>\n",
       "      <td>0</td>\n",
       "      <td>0</td>\n",
       "      <td>0</td>\n",
       "      <td>0</td>\n",
       "      <td>...</td>\n",
       "      <td>0</td>\n",
       "      <td>0</td>\n",
       "      <td>0</td>\n",
       "      <td>0</td>\n",
       "      <td>0</td>\n",
       "      <td>0</td>\n",
       "      <td>0</td>\n",
       "      <td>0</td>\n",
       "      <td>0</td>\n",
       "      <td>E</td>\n",
       "    </tr>\n",
       "    <tr>\n",
       "      <th>1</th>\n",
       "      <td>Subnautica: Below Zero</td>\n",
       "      <td>1</td>\n",
       "      <td>0</td>\n",
       "      <td>1</td>\n",
       "      <td>0</td>\n",
       "      <td>0</td>\n",
       "      <td>0</td>\n",
       "      <td>0</td>\n",
       "      <td>0</td>\n",
       "      <td>0</td>\n",
       "      <td>...</td>\n",
       "      <td>0</td>\n",
       "      <td>0</td>\n",
       "      <td>0</td>\n",
       "      <td>0</td>\n",
       "      <td>0</td>\n",
       "      <td>0</td>\n",
       "      <td>0</td>\n",
       "      <td>0</td>\n",
       "      <td>0</td>\n",
       "      <td>ET</td>\n",
       "    </tr>\n",
       "    <tr>\n",
       "      <th>2</th>\n",
       "      <td>NIER REPLICANT VER.1.22474487139…</td>\n",
       "      <td>1</td>\n",
       "      <td>0</td>\n",
       "      <td>0</td>\n",
       "      <td>1</td>\n",
       "      <td>0</td>\n",
       "      <td>0</td>\n",
       "      <td>0</td>\n",
       "      <td>0</td>\n",
       "      <td>0</td>\n",
       "      <td>...</td>\n",
       "      <td>0</td>\n",
       "      <td>0</td>\n",
       "      <td>0</td>\n",
       "      <td>1</td>\n",
       "      <td>0</td>\n",
       "      <td>1</td>\n",
       "      <td>0</td>\n",
       "      <td>0</td>\n",
       "      <td>0</td>\n",
       "      <td>M</td>\n",
       "    </tr>\n",
       "    <tr>\n",
       "      <th>3</th>\n",
       "      <td>Jamestown+</td>\n",
       "      <td>0</td>\n",
       "      <td>0</td>\n",
       "      <td>0</td>\n",
       "      <td>0</td>\n",
       "      <td>0</td>\n",
       "      <td>0</td>\n",
       "      <td>0</td>\n",
       "      <td>0</td>\n",
       "      <td>1</td>\n",
       "      <td>...</td>\n",
       "      <td>0</td>\n",
       "      <td>0</td>\n",
       "      <td>0</td>\n",
       "      <td>0</td>\n",
       "      <td>0</td>\n",
       "      <td>0</td>\n",
       "      <td>0</td>\n",
       "      <td>0</td>\n",
       "      <td>0</td>\n",
       "      <td>ET</td>\n",
       "    </tr>\n",
       "    <tr>\n",
       "      <th>4</th>\n",
       "      <td>Neptunia Virtual Stars</td>\n",
       "      <td>0</td>\n",
       "      <td>0</td>\n",
       "      <td>0</td>\n",
       "      <td>0</td>\n",
       "      <td>0</td>\n",
       "      <td>0</td>\n",
       "      <td>0</td>\n",
       "      <td>0</td>\n",
       "      <td>1</td>\n",
       "      <td>...</td>\n",
       "      <td>0</td>\n",
       "      <td>0</td>\n",
       "      <td>0</td>\n",
       "      <td>0</td>\n",
       "      <td>0</td>\n",
       "      <td>1</td>\n",
       "      <td>0</td>\n",
       "      <td>0</td>\n",
       "      <td>0</td>\n",
       "      <td>T</td>\n",
       "    </tr>\n",
       "  </tbody>\n",
       "</table>\n",
       "<p>5 rows × 34 columns</p>\n",
       "</div>"
      ],
      "text/plain": [
       "                               title  console  alcohol_reference  \\\n",
       "0         Monster Jam Steel Titans 2        1                  0   \n",
       "1             Subnautica: Below Zero        1                  0   \n",
       "2  NIER REPLICANT VER.1.22474487139…        1                  0   \n",
       "3                         Jamestown+        0                  0   \n",
       "4             Neptunia Virtual Stars        0                  0   \n",
       "\n",
       "   animated_blood  blood  blood_and_gore  cartoon_violence  crude_humor  \\\n",
       "0               0      0               0                 0            0   \n",
       "1               1      0               0                 0            0   \n",
       "2               0      1               0                 0            0   \n",
       "3               0      0               0                 0            0   \n",
       "4               0      0               0                 0            0   \n",
       "\n",
       "   drug_reference  fantasy_violence  ...  sexual_content  sexual_themes  \\\n",
       "0               0                 0  ...               0              0   \n",
       "1               0                 0  ...               0              0   \n",
       "2               0                 0  ...               0              0   \n",
       "3               0                 1  ...               0              0   \n",
       "4               0                 1  ...               0              0   \n",
       "\n",
       "   simulated_gambling  strong_janguage  strong_sexual_content  \\\n",
       "0                   0                0                      0   \n",
       "1                   0                0                      0   \n",
       "2                   0                1                      0   \n",
       "3                   0                0                      0   \n",
       "4                   0                0                      0   \n",
       "\n",
       "   suggestive_themes  use_of_alcohol  use_of_drugs_and_alcohol  violence  \\\n",
       "0                  0               0                         0         0   \n",
       "1                  0               0                         0         0   \n",
       "2                  1               0                         0         0   \n",
       "3                  0               0                         0         0   \n",
       "4                  1               0                         0         0   \n",
       "\n",
       "   esrb_rating  \n",
       "0            E  \n",
       "1           ET  \n",
       "2            M  \n",
       "3           ET  \n",
       "4            T  \n",
       "\n",
       "[5 rows x 34 columns]"
      ]
     },
     "execution_count": 104,
     "metadata": {},
     "output_type": "execute_result"
    }
   ],
   "source": [
    "# initialize the datasets\n",
    "data = pd.read_csv(\"../dataset/ESRB.csv\")\n",
    "data_test = pd.read_csv(\"../dataset/ESRB_test.csv\")\n",
    "\n",
    "# Perserve copy of original data \n",
    "old_data = data.copy()\n",
    "\n",
    "# Concat dataset\n",
    "data = pd.concat([data, data_test])\n",
    "\n",
    "data.head()"
   ]
  },
  {
   "cell_type": "code",
   "execution_count": 105,
   "id": "76233333",
   "metadata": {},
   "outputs": [
    {
     "name": "stdout",
     "output_type": "stream",
     "text": [
      "Row / Columns: (2395, 34)\n",
      "Class distribution is: T     873\n",
      "ET    529\n",
      "E     516\n",
      "M     477\n",
      "Name: esrb_rating, dtype: int64\n"
     ]
    }
   ],
   "source": [
    "print(\"Row / Columns: {}\".format(data.shape))\n",
    "\n",
    "print(\"Class distribution is: {}\".format(data['esrb_rating'].value_counts()))"
   ]
  },
  {
   "cell_type": "markdown",
   "id": "c00c4eaf",
   "metadata": {},
   "source": [
    "## Method / predictions\n",
    "We can see there are 33 features, mostly binary features, except for the title and label. I will be comparing the results of descision tree and a dense network. After that we will be assesing the performance with F1 score. \n",
    "\n",
    "I predict that both will be overfit, maybe the dense network a bit more than the descision tree."
   ]
  },
  {
   "cell_type": "code",
   "execution_count": 106,
   "id": "72a36fa9",
   "metadata": {},
   "outputs": [
    {
     "data": {
      "text/plain": [
       "0       E\n",
       "1      ET\n",
       "2       M\n",
       "3      ET\n",
       "4       T\n",
       "       ..\n",
       "495     M\n",
       "496     M\n",
       "497     M\n",
       "498     T\n",
       "499     T\n",
       "Name: esrb_rating, Length: 2395, dtype: object"
      ]
     },
     "execution_count": 106,
     "metadata": {},
     "output_type": "execute_result"
    }
   ],
   "source": [
    "# Preprocessing\n",
    "data = data.drop('title', axis=1) \n",
    "\n",
    "labels = pd.get_dummies(data['esrb_rating'])\n",
    "\n",
    "data.pop('esrb_rating')"
   ]
  },
  {
   "cell_type": "code",
   "execution_count": 107,
   "id": "024bed7e",
   "metadata": {},
   "outputs": [],
   "source": [
    "# Split the dataset\n",
    "X_train, X_test, y_train, y_test = train_test_split(data, labels, train_size = 0.7,  stratify = labels, random_state = 420) "
   ]
  },
  {
   "cell_type": "code",
   "execution_count": 108,
   "id": "8d4c0607",
   "metadata": {},
   "outputs": [],
   "source": [
    "# Define models\n",
    "decision_tree = DecisionTreeClassifier(max_depth = 12)\n",
    "\n",
    "dense_net = Sequential()\n",
    "\n",
    "dense_net.add(Dense(32, activation='relu'))\n",
    "dense_net.add(Dense(4, activation='softmax'))\n",
    "\n",
    "dense_net.compile(optimizer = 'rmsprop', loss = 'categorical_crossentropy')"
   ]
  },
  {
   "cell_type": "code",
   "execution_count": 109,
   "id": "df6a52fd",
   "metadata": {},
   "outputs": [
    {
     "name": "stdout",
     "output_type": "stream",
     "text": [
      "Epoch 1/25\n",
      "42/42 [==============================] - 2s 21ms/step - loss: 1.3726 - val_loss: 1.2398\n",
      "Epoch 2/25\n",
      "42/42 [==============================] - 1s 14ms/step - loss: 1.1976 - val_loss: 1.1197\n",
      "Epoch 3/25\n",
      "42/42 [==============================] - 1s 19ms/step - loss: 1.0753 - val_loss: 1.0018\n",
      "Epoch 4/25\n",
      "42/42 [==============================] - 0s 11ms/step - loss: 0.9479 - val_loss: 0.8848\n",
      "Epoch 5/25\n",
      "42/42 [==============================] - 1s 16ms/step - loss: 0.8169 - val_loss: 0.7779\n",
      "Epoch 6/25\n",
      "42/42 [==============================] - 1s 14ms/step - loss: 0.7231 - val_loss: 0.6878\n",
      "Epoch 7/25\n",
      "42/42 [==============================] - 1s 13ms/step - loss: 0.6239 - val_loss: 0.6162\n",
      "Epoch 8/25\n",
      "42/42 [==============================] - 1s 17ms/step - loss: 0.5440 - val_loss: 0.5626\n",
      "Epoch 9/25\n",
      "42/42 [==============================] - 1s 14ms/step - loss: 0.4975 - val_loss: 0.5227\n",
      "Epoch 10/25\n",
      "42/42 [==============================] - 0s 10ms/step - loss: 0.4565 - val_loss: 0.4940\n",
      "Epoch 11/25\n",
      "42/42 [==============================] - 0s 11ms/step - loss: 0.4193 - val_loss: 0.4731\n",
      "Epoch 12/25\n",
      "42/42 [==============================] - 1s 12ms/step - loss: 0.4250 - val_loss: 0.4566\n",
      "Epoch 13/25\n",
      "42/42 [==============================] - 1s 17ms/step - loss: 0.4026 - val_loss: 0.4446\n",
      "Epoch 14/25\n",
      "42/42 [==============================] - 0s 12ms/step - loss: 0.3849 - val_loss: 0.4334\n",
      "Epoch 15/25\n",
      "42/42 [==============================] - 1s 12ms/step - loss: 0.3798 - val_loss: 0.4252\n",
      "Epoch 16/25\n",
      "42/42 [==============================] - 1s 20ms/step - loss: 0.3698 - val_loss: 0.4173\n",
      "Epoch 17/25\n",
      "42/42 [==============================] - 1s 12ms/step - loss: 0.3640 - val_loss: 0.4119\n",
      "Epoch 18/25\n",
      "42/42 [==============================] - 0s 12ms/step - loss: 0.3697 - val_loss: 0.4053\n",
      "Epoch 19/25\n",
      "42/42 [==============================] - 1s 16ms/step - loss: 0.3657 - val_loss: 0.3997\n",
      "Epoch 20/25\n",
      "42/42 [==============================] - 1s 13ms/step - loss: 0.3286 - val_loss: 0.3957\n",
      "Epoch 21/25\n",
      "42/42 [==============================] - 0s 10ms/step - loss: 0.3347 - val_loss: 0.3931\n",
      "Epoch 22/25\n",
      "42/42 [==============================] - 0s 11ms/step - loss: 0.3283 - val_loss: 0.3889\n",
      "Epoch 23/25\n",
      "42/42 [==============================] - 0s 11ms/step - loss: 0.3493 - val_loss: 0.3868\n",
      "Epoch 24/25\n",
      "42/42 [==============================] - 0s 11ms/step - loss: 0.3315 - val_loss: 0.3848\n",
      "Epoch 25/25\n",
      "42/42 [==============================] - 1s 12ms/step - loss: 0.3368 - val_loss: 0.3807\n"
     ]
    }
   ],
   "source": [
    "hist_decision_tree = decision_tree.fit(X_train, y_train)\n",
    "hist_dense_net = dense_net.fit(X_train, y_train, epochs = 25, validation_split=0.2)"
   ]
  },
  {
   "cell_type": "code",
   "execution_count": 110,
   "id": "adf2111b",
   "metadata": {},
   "outputs": [
    {
     "data": {
      "image/png": "[encoded data removed]",
      "text/plain": [
       "<Figure size 432x288 with 1 Axes>"
      ]
     },
     "metadata": {
      "needs_background": "light"
     },
     "output_type": "display_data"
    }
   ],
   "source": [
    "# Plot fitting history dense net\n",
    "\n",
    "plt.plot(hist_dense_net.history['loss'][1:])\n",
    "plt.plot(hist_dense_net.history['val_loss'][1:])\n",
    "\n",
    "plt.title('Train curve ')\n",
    "plt.ylabel('loss')\n",
    "plt.xlabel('val_loss')\n",
    "plt.legend(['train', 'val'], loc='upper right')\n",
    "\n",
    "plt.show()\n",
    "\n"
   ]
  },
  {
   "cell_type": "code",
   "execution_count": 111,
   "id": "2849927a",
   "metadata": {},
   "outputs": [],
   "source": [
    "# Get predictions\n",
    "decision_tree_prediction = decision_tree.predict(X_test)\n",
    "\n",
    "dense_net_prediction = dense_net.predict(X_test)\n",
    "dense_net_prediction = np.where(dense_net_prediction > 0.5, 1, 0 )"
   ]
  },
  {
   "cell_type": "code",
   "execution_count": 112,
   "id": "3728ea8b",
   "metadata": {},
   "outputs": [
    {
     "name": "stdout",
     "output_type": "stream",
     "text": [
      "Decision tree:\n",
      "\n",
      "Accuracy: 0.7691237830319889\n",
      "Precision: 0.8534400992664103\n",
      "Recall: 0.7691237830319889\n",
      "F1: 0.8084324808105827\n",
      "\n",
      "Dense Net:\n",
      "\n",
      "Accuracy: 0.827538247566064\n",
      "Precision: 0.8483230122013273\n",
      "Recall: 0.827538247566064\n",
      "F1: 0.8377891711631748\n"
     ]
    }
   ],
   "source": [
    "from sklearn.metrics import accuracy_score, precision_score, recall_score, f1_score, confusion_matrix, ConfusionMatrixDisplay, roc_curve, auc, mean_squared_error, r2_score, mean_absolute_error\n",
    "\n",
    "print(\"Decision tree:\\n\")\n",
    "\n",
    "print(\"Accuracy: {}\".format(accuracy_score(y_test, decision_tree_prediction)))\n",
    "print(\"Precision: {}\".format(precision_score(y_test, decision_tree_prediction, average = \"weighted\")))\n",
    "print(\"Recall: {}\".format(recall_score(y_test, decision_tree_prediction, average = 'weighted')))\n",
    "print(\"F1: {}\".format(f1_score(y_test, decision_tree_prediction, average = 'weighted')))\n",
    "\n",
    "print(\"\\nDense Net:\\n\")\n",
    "\n",
    "print(\"Accuracy: {}\".format(accuracy_score(y_test, dense_net_prediction)))\n",
    "print(\"Precision: {}\".format(precision_score(y_test, dense_net_prediction, average = \"weighted\")))\n",
    "print(\"Recall: {}\".format(recall_score(y_test, dense_net_prediction, average = 'weighted')))\n",
    "print(\"F1: {}\".format(f1_score(y_test, dense_net_prediction, average = 'weighted')))\n"
   ]
  },
  {
   "cell_type": "code",
   "execution_count": 114,
   "id": "8be02d2b",
   "metadata": {},
   "outputs": [
    {
     "data": {
      "text/plain": [
       "<sklearn.metrics._plot.confusion_matrix.ConfusionMatrixDisplay at 0x7ae5e1d2b4f0>"
      ]
     },
     "execution_count": 114,
     "metadata": {},
     "output_type": "execute_result"
    },
    {
     "data": {
      "image/png": "[encoded data removed]",
      "text/plain": [
       "<Figure size 432x288 with 2 Axes>"
      ]
     },
     "metadata": {
      "needs_background": "light"
     },
     "output_type": "display_data"
    },
    {
     "data": {
      "image/png": "[encoded data removed]",
      "text/plain": [
       "<Figure size 432x288 with 2 Axes>"
      ]
     },
     "metadata": {
      "needs_background": "light"
     },
     "output_type": "display_data"
    }
   ],
   "source": [
    "# Decision tree\n",
    "\n",
    "# Initialize\n",
    "confusion_matrix_decision_tree = confusion_matrix(y_test.to_numpy().argmax(axis=1), decision_tree_prediction.argmax(axis=1))\n",
    "# Plot\n",
    "ConfusionMatrixDisplay(confusion_matrix_decision_tree).plot()\n",
    "\n",
    "\n",
    "# Dense network\n",
    "\n",
    "confusion_matrix_dense = confusion_matrix(y_test.to_numpy().argmax(axis=1), dense_net_prediction.argmax(axis=1))\n",
    "# Plot\n",
    "ConfusionMatrixDisplay(confusion_matrix_dense).plot()\n"
   ]
  },
  {
   "cell_type": "markdown",
   "id": "d67cd4d2",
   "metadata": {},
   "source": [
    "### Evaluation\n"
   ]
  },
  {
   "cell_type": "markdown",
   "id": "186a441c",
   "metadata": {},
   "source": [
    "We can see that the dense net won from the decision tree with 83.7 vs 80.8.\n",
    "\n",
    "My prediction was not accurate, I suspected that the decision tree would perform beter since the dense net could overfit, on this dataset. When you take a look at the learning curve you can see that this indeed happens after some epochs but the cutoff point of the validation accuracy is low enough for it to not overfit that fast. DT's actually tend to overfit the data. "
   ]
  }
 ],
 "metadata": {
  "kernelspec": {
   "display_name": "Python 3 (ipykernel)",
   "language": "python",
   "name": "python3"
  },
  "language_info": {
   "codemirror_mode": {
    "name": "ipython",
    "version": 3
   },
   "file_extension": ".py",
   "mimetype": "text/x-python",
   "name": "python",
   "nbconvert_exporter": "python",
   "pygments_lexer": "ipython3",
   "version": "3.10.4"
  }
 },
 "nbformat": 4,
 "nbformat_minor": 5
}
