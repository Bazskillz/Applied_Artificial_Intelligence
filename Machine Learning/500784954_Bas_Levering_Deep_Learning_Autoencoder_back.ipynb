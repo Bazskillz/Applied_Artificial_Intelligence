{
 "cells": [
  {
   "cell_type": "markdown",
   "id": "eceba94d",
   "metadata": {},
   "source": [
    "### Denoising the keras mnist dataset using autoencoders. "
   ]
  },
  {
   "cell_type": "code",
   "execution_count": 2,
   "id": "f9e203bf",
   "metadata": {},
   "outputs": [],
   "source": [
    "# Importing libraries and initializing them. \n",
    "\n",
    "# Math \n",
    "import matplotlib.pyplot as plt\n",
    "import numpy as np\n",
    "\n",
    "%matplotlib inline\n",
    "\n",
    "# Network\n",
    "import tensorflow as tf\n",
    "\n",
    "from tensorflow.keras.callbacks import LambdaCallback, TensorBoard, EarlyStopping\n",
    "from tensorflow.keras.layers import Input, Dense, MaxPooling2D, Conv2D, UpSampling2D\n",
    "from tensorflow.keras.models import Model, Sequential\n",
    "from tensorflow.keras.utils import to_categorical\n"
   ]
  },
  {
   "cell_type": "markdown",
   "id": "b182792e",
   "metadata": {},
   "source": [
    "#### Inititzialize mnist dataset"
   ]
  },
  {
   "cell_type": "code",
   "execution_count": 3,
   "id": "b1c849c2",
   "metadata": {},
   "outputs": [
    {
     "name": "stdout",
     "output_type": "stream",
     "text": [
      "Shape training set: (60000, 28, 28)\n",
      "Shape test set: (10000, 28, 28)\n"
     ]
    }
   ],
   "source": [
    "from tensorflow.keras.datasets import mnist\n",
    "(x_train, _), (x_test, _) = mnist.load_data()\n",
    "\n",
    "print(\"Shape training set: {}\".format(x_train.shape))\n",
    "print(\"Shape test set: {}\".format(x_test.shape))"
   ]
  },
  {
   "cell_type": "markdown",
   "id": "23bfa5f2",
   "metadata": {},
   "source": [
    "#### Normalize the train and test dataset."
   ]
  },
  {
   "cell_type": "code",
   "execution_count": 4,
   "id": "b1d696e7",
   "metadata": {},
   "outputs": [
    {
     "name": "stdout",
     "output_type": "stream",
     "text": [
      "Normalized train set: (60000, 28, 28, 1)\n"
     ]
    }
   ],
   "source": [
    "# Training data\n",
    "x_train = x_train.astype('float32') / 255.\n",
    "\n",
    "x_train = np.reshape(x_train, (len( x_train ), 28, 28, 1))\n",
    "print(\"Normalized train set: {}\".format(x_train.shape))\n"
   ]
  },
  {
   "cell_type": "code",
   "execution_count": 5,
   "id": "c1107ed8",
   "metadata": {},
   "outputs": [
    {
     "name": "stdout",
     "output_type": "stream",
     "text": [
      "Shape test set: (10000, 28, 28, 1)\n"
     ]
    }
   ],
   "source": [
    "# Test data\n",
    "x_test = x_test.astype('float32') / 255.\n",
    "\n",
    "x_test = np.reshape(x_test, (len(x_test), 28, 28, 1))\n",
    "print(\"Shape test set: {}\".format(x_test.shape))"
   ]
  },
  {
   "cell_type": "markdown",
   "id": "c3f990ed",
   "metadata": {},
   "source": [
    "#### Generate noise.\n",
    "To develop a generalized model, a bit of noise is added to the data to make it corrupt. The data that is not corrupted is kept and used as the output. Because the model can't remember the training data, it uses the output as input. Different output goals are set.\n",
    "\n"
   ]
  },
  {
   "cell_type": "code",
   "execution_count": 6,
   "id": "b128b4b1",
   "metadata": {},
   "outputs": [
    {
     "name": "stdout",
     "output_type": "stream",
     "text": [
      "Shape test set: (10000, 28, 28, 1)\n"
     ]
    }
   ],
   "source": [
    "noisy_x_train = x_train + 0.5 * np.random.normal(size=x_train.shape) \n",
    "noisy_x_test = x_test + 0.5 * np.random.normal(size=x_test.shape) \n",
    "\n",
    "noisy_x_train = np.clip(noisy_x_train, 0., 1.)\n",
    "noisy_x_test = np.clip(noisy_x_test, 0., 1.)\n",
    "\n",
    "print(\"Shape test set: {}\".format(noisy_x_test.shape))\n"
   ]
  },
  {
   "cell_type": "markdown",
   "id": "e21d5e89",
   "metadata": {},
   "source": [
    "#### Create the encoder. \n",
    "We are going to use Functional API to build our convolutional autoencoder."
   ]
  },
  {
   "cell_type": "code",
   "execution_count": 7,
   "id": "aaf34a91",
   "metadata": {},
   "outputs": [
    {
     "name": "stdout",
     "output_type": "stream",
     "text": [
      "Model: \"model\"\n",
      "_________________________________________________________________\n",
      "Layer (type)                 Output Shape              Param #   \n",
      "=================================================================\n",
      "input_1 (InputLayer)         [(None, 28, 28, 1)]       0         \n",
      "_________________________________________________________________\n",
      "conv2d (Conv2D)              (None, 28, 28, 32)        320       \n",
      "_________________________________________________________________\n",
      "max_pooling2d (MaxPooling2D) (None, 14, 14, 32)        0         \n",
      "_________________________________________________________________\n",
      "conv2d_1 (Conv2D)            (None, 14, 14, 32)        9248      \n",
      "_________________________________________________________________\n",
      "max_pooling2d_1 (MaxPooling2 (None, 7, 7, 32)          0         \n",
      "=================================================================\n",
      "Total params: 9,568\n",
      "Trainable params: 9,568\n",
      "Non-trainable params: 0\n",
      "_________________________________________________________________\n"
     ]
    },
    {
     "name": "stderr",
     "output_type": "stream",
     "text": [
      "2022-05-09 14:34:45.806363: I tensorflow/compiler/jit/xla_cpu_device.cc:41] Not creating XLA devices, tf_xla_enable_xla_devices not set\n",
      "2022-05-09 14:34:45.806915: I tensorflow/core/platform/cpu_feature_guard.cc:142] This TensorFlow binary is optimized with oneAPI Deep Neural Network Library (oneDNN) to use the following CPU instructions in performance-critical operations:  SSE4.1 SSE4.2\n",
      "To enable them in other operations, rebuild TensorFlow with the appropriate compiler flags.\n",
      "2022-05-09 14:34:45.818520: I tensorflow/core/common_runtime/process_util.cc:146] Creating new thread pool with default inter op setting: 2. Tune using inter_op_parallelism_threads for best performance.\n"
     ]
    }
   ],
   "source": [
    "# building the encoder network to map the input into the code. \n",
    "image = Input(shape=(28,28,1))\n",
    "\n",
    "x = Conv2D(32,(3,3),activation='relu', padding='same')(image)\n",
    "x = MaxPooling2D((2,2),padding='same')(x)\n",
    "x = Conv2D(32,(3,3),activation='relu', padding='same')(x)\n",
    "encoded_image = MaxPooling2D((2,2), padding='same')(x)\n",
    "\n",
    "encoder = Model(image, encoded_image)\n",
    "encoder.summary()"
   ]
  },
  {
   "cell_type": "markdown",
   "id": "49444959",
   "metadata": {},
   "source": [
    "#### Create the decoder network"
   ]
  },
  {
   "cell_type": "code",
   "execution_count": 8,
   "id": "a895afaa",
   "metadata": {},
   "outputs": [
    {
     "name": "stdout",
     "output_type": "stream",
     "text": [
      "Model: \"model_1\"\n",
      "_________________________________________________________________\n",
      "Layer (type)                 Output Shape              Param #   \n",
      "=================================================================\n",
      "input_2 (InputLayer)         [(None, 7, 7, 32)]        0         \n",
      "_________________________________________________________________\n",
      "conv2d_2 (Conv2D)            (None, 7, 7, 32)          9248      \n",
      "_________________________________________________________________\n",
      "up_sampling2d (UpSampling2D) (None, 14, 14, 32)        0         \n",
      "_________________________________________________________________\n",
      "conv2d_3 (Conv2D)            (None, 14, 14, 32)        9248      \n",
      "_________________________________________________________________\n",
      "up_sampling2d_1 (UpSampling2 (None, 28, 28, 32)        0         \n",
      "_________________________________________________________________\n",
      "conv2d_4 (Conv2D)            (None, 28, 28, 1)         289       \n",
      "=================================================================\n",
      "Total params: 18,785\n",
      "Trainable params: 18,785\n",
      "Non-trainable params: 0\n",
      "_________________________________________________________________\n"
     ]
    }
   ],
   "source": [
    "# building the convolutional decoder network to map the code into a reconstruction of the input. \n",
    "\n",
    "decoder_input_code = Input(shape=(7,7,32))\n",
    "\n",
    "x = Conv2D(32,(3,3),activation='relu',padding='same')(decoder_input_code)\n",
    "x = UpSampling2D((2,2))(x)\n",
    "x = Conv2D(32,(3,3),activation='relu',padding='same')(x)\n",
    "x = UpSampling2D((2,2))(x)\n",
    "\n",
    "decoded_image = Conv2D(1,(3,3),activation='sigmoid',padding='same')(x)\n",
    "\n",
    "decoder = Model(decoder_input_code, decoded_image)\n",
    "decoder.summary()"
   ]
  },
  {
   "cell_type": "code",
   "execution_count": 9,
   "id": "762c7754",
   "metadata": {},
   "outputs": [
    {
     "name": "stdout",
     "output_type": "stream",
     "text": [
      "Model: \"model_2\"\n",
      "_________________________________________________________________\n",
      "Layer (type)                 Output Shape              Param #   \n",
      "=================================================================\n",
      "input_3 (InputLayer)         [(None, 28, 28, 1)]       0         \n",
      "_________________________________________________________________\n",
      "model (Functional)           (None, 7, 7, 32)          9568      \n",
      "_________________________________________________________________\n",
      "model_1 (Functional)         (None, 28, 28, 1)         18785     \n",
      "=================================================================\n",
      "Total params: 28,353\n",
      "Trainable params: 28,353\n",
      "Non-trainable params: 0\n",
      "_________________________________________________________________\n"
     ]
    }
   ],
   "source": [
    "# create the autoencoder by tying the encode and decode networks together\n",
    "autoencoder_input = Input(shape=(28,28,1))\n",
    "\n",
    "encoded_image = encoder(autoencoder_input)\n",
    "decoded_image = decoder(encoded_image)\n",
    "\n",
    "autoencoder = Model(autoencoder_input, decoded_image)\n",
    "autoencoder.summary()"
   ]
  },
  {
   "cell_type": "markdown",
   "id": "5f3a78de",
   "metadata": {},
   "source": [
    "Train the autoencoder on the noisy images, with their clean counterparts."
   ]
  },
  {
   "cell_type": "code",
   "execution_count": 11,
   "id": "fbfcff2d",
   "metadata": {},
   "outputs": [
    {
     "name": "stderr",
     "output_type": "stream",
     "text": [
      "2022-05-09 14:35:06.843308: I tensorflow/compiler/mlir/mlir_graph_optimization_pass.cc:116] None of the MLIR optimization passes are enabled (registered 2)\n",
      "2022-05-09 14:35:06.845895: I tensorflow/core/platform/profile_utils/cpu_utils.cc:112] CPU Frequency: 1094400000 Hz\n"
     ]
    },
    {
     "name": "stdout",
     "output_type": "stream",
     "text": [
      "Epoch 1/5\n",
      "469/469 [==============================] - 260s 546ms/step - loss: 0.2362\n",
      "Epoch 2/5\n",
      "469/469 [==============================] - 271s 578ms/step - loss: 0.1144\n",
      "Epoch 3/5\n",
      "469/469 [==============================] - 279s 596ms/step - loss: 0.1076\n",
      "Epoch 4/5\n",
      "469/469 [==============================] - 310s 660ms/step - loss: 0.1047\n",
      "Epoch 5/5\n",
      "469/469 [==============================] - 293s 625ms/step - loss: 0.1023\n"
     ]
    },
    {
     "data": {
      "text/plain": [
       "<tensorflow.python.keras.callbacks.History at 0x7d062aace2e0>"
      ]
     },
     "execution_count": 11,
     "metadata": {},
     "output_type": "execute_result"
    }
   ],
   "source": [
    "autoencoder.compile(optimizer = 'adam', loss = 'binary_crossentropy')\n",
    "\n",
    "autoencoder.fit(noisy_x_train, x_train,epochs=5,batch_size=128, shuffle = True)\n"
   ]
  },
  {
   "cell_type": "markdown",
   "id": "2618af4a",
   "metadata": {},
   "source": [
    "Encode the first few images from the set using the encoder. "
   ]
  },
  {
   "cell_type": "code",
   "execution_count": 14,
   "id": "5690ab53",
   "metadata": {},
   "outputs": [
    {
     "name": "stdout",
     "output_type": "stream",
     "text": [
      "(10, 7, 7, 32)\n"
     ]
    }
   ],
   "source": [
    "encoded_images = encoder.predict(noisy_x_test[:10])\n",
    "print(encoded_images.shape)"
   ]
  },
  {
   "cell_type": "markdown",
   "id": "f7cb5438",
   "metadata": {},
   "source": [
    "Cycle the encoded noisy images through the decoder."
   ]
  },
  {
   "cell_type": "code",
   "execution_count": 15,
   "id": "50ae3dc9",
   "metadata": {},
   "outputs": [
    {
     "name": "stdout",
     "output_type": "stream",
     "text": [
      "(10, 28, 28, 1)\n"
     ]
    }
   ],
   "source": [
    "decoded_images = decoder.predict(encoded_images)\n",
    "print(decoded_images.shape)"
   ]
  },
  {
   "cell_type": "code",
   "execution_count": 16,
   "id": "e39998bd",
   "metadata": {},
   "outputs": [
    {
     "data": {
      "image/png": "[encoded data removed]",
      "text/plain": [
       "<Figure size 2160x432 with 30 Axes>"
      ]
     },
     "metadata": {
      "needs_background": "light"
     },
     "output_type": "display_data"
    }
   ],
   "source": [
    "# display the images\n",
    "\n",
    "plt.figure(figsize=(30,6))\n",
    "for i in range(10):\n",
    "\n",
    "  # plotting the noisy images\n",
    "  ax = plt.subplot(3,10,i+1)\n",
    "  plt.imshow(noisy_x_test[i].reshape(28,28))\n",
    "  plt.gray()\n",
    "  ax.get_xaxis().set_visible(False)\n",
    "  ax.get_yaxis().set_visible(False)\n",
    "\n",
    "  # plotting the denoised images\n",
    "  ax = plt.subplot(3,10,i+1+10)\n",
    "  plt.imshow(decoded_images[i].reshape(28,28))\n",
    "  plt.gray()\n",
    "  ax.get_xaxis().set_visible(False)\n",
    "  ax.get_yaxis().set_visible(False)\n",
    "\n",
    "  # plotting the original images\n",
    "  ax = plt.subplot(3,10,i+1+10*2)\n",
    "  plt.imshow(x_test[i].reshape(28,28))\n",
    "  plt.gray()\n",
    "  ax.get_xaxis().set_visible(False)\n",
    "  ax.get_yaxis().set_visible(False)\n",
    "    \n",
    "plt.show()"
   ]
  }
 ],
 "metadata": {
  "kernelspec": {
   "display_name": "Python 3 (ipykernel)",
   "language": "python",
   "name": "python3"
  },
  "language_info": {
   "codemirror_mode": {
    "name": "ipython",
    "version": 3
   },
   "file_extension": ".py",
   "mimetype": "text/x-python",
   "name": "python",
   "nbconvert_exporter": "python",
   "pygments_lexer": "ipython3",
   "version": "3.10.4"
  }
 },
 "nbformat": 4,
 "nbformat_minor": 5
}
