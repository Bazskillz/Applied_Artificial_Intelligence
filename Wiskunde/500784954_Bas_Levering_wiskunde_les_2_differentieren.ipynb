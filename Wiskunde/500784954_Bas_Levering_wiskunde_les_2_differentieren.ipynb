{
 "cells": [
  {
   "cell_type": "code",
   "execution_count": null,
   "metadata": {
    "collapsed": true
   },
   "outputs": [],
   "source": []
  },
  {
   "cell_type": "code",
   "execution_count": null,
   "outputs": [],
   "source": [
    "### Opdrachten differentieren\n",
    "\n",
    "#### f(x) =  3x^3 + 2x^4 + 3x^1/2 + 3x^4 + 3x +2\t== f(x) = 9x^2+8x^3+3/2x^-1/2 +12x^3 + 3\n",
    "#### f(x) = (-5x + 3x^2) (5-2x)\t\t\t            == f(x) = -18x^2 + 50x^2 - 25\n",
    "#### f(x) = f(x) 5x+3/3+2x \t\t\t\t            == f(x) = 9 / (3+2x)^2\n",
    "#### f(x) = (x^2+2)^4 \t\t\t\t                == f(x) = 8x(x^2 + 2)\n",
    "#### f(x) = 3e^-x \t\t\t\t\t                == f(x) = -3e^-x\n"
   ],
   "metadata": {
    "collapsed": false,
    "pycharm": {
     "name": "#%%\n"
    }
   }
  }
 ],
 "metadata": {
  "kernelspec": {
   "display_name": "Python 3",
   "language": "python",
   "name": "python3"
  },
  "language_info": {
   "codemirror_mode": {
    "name": "ipython",
    "version": 2
   },
   "file_extension": ".py",
   "mimetype": "text/x-python",
   "name": "python",
   "nbconvert_exporter": "python",
   "pygments_lexer": "ipython2",
   "version": "2.7.6"
  }
 },
 "nbformat": 4,
 "nbformat_minor": 0
}