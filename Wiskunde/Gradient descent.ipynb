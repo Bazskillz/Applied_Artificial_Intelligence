{
 "cells": [
  {
   "cell_type": "markdown",
   "metadata": {
    "collapsed": true,
    "pycharm": {
     "name": "#%% md\n"
    }
   },
   "source": [
    "Below we will apply gradient descent using partial differentiation"
   ]
  },
  {
   "cell_type": "markdown",
   "source": [
    "Given formula:\n",
    "\n",
    "* 1: $Z(x, y) = x^4 + x^3 y^2 + y^5 + 8$"
   ],
   "metadata": {
    "collapsed": false,
    "pycharm": {
     "name": "#%% md\n"
    }
   }
  },
  {
   "cell_type": "markdown",
   "source": [
    "Step 1: random values for x and y\n",
    "\n",
    "x = -2 and y = 3\n"
   ],
   "metadata": {
    "collapsed": false
   }
  },
  {
   "cell_type": "markdown",
   "source": [
    "Step 2: determine the partial derivative of x and the partial derivative of y\n",
    "\n",
    "$dZ  =   4x^3 + 3x^2y^2$ </br>\n",
    "dx\n",
    "\n",
    "$dZ  =   4x^2y^3 - 10y^4$ </br>\n",
    "dy\n"
   ],
   "metadata": {
    "collapsed": false
   }
  },
  {
   "cell_type": "markdown",
   "source": [
    "Step 3: Choose learning rate\n",
    "\n",
    "a = 0.1"
   ],
   "metadata": {
    "collapsed": false
   }
  },
  {
   "cell_type": "markdown",
   "source": [
    "Step 4: Update values by doing θ - a▽Z\n",
    "\n",
    "$(-2)  =   (θx - a▽Z) = (-2 - 0.1 * 4 * -2^3 + 3 * -2^2 * -2) =   (25.2)$ </br>\n",
    "$( 3)  =   (θy - a▽Z) = (3 - 0.1 * 4 * 3 * 3^3 - 10 * 3^4)      =   (-839.4)$\n",
    "\n"
   ],
   "metadata": {
    "collapsed": false
   }
  },
  {
   "cell_type": "markdown",
   "source": [
    "Step 5: Repeat to approach local minimum"
   ],
   "metadata": {
    "collapsed": false
   }
  },
  {
   "cell_type": "markdown",
   "source": [],
   "metadata": {
    "collapsed": false
   }
  }
 ],
 "metadata": {
  "kernelspec": {
   "display_name": "Python 3",
   "language": "python",
   "name": "python3"
  },
  "language_info": {
   "codemirror_mode": {
    "name": "ipython",
    "version": 2
   },
   "file_extension": ".py",
   "mimetype": "text/x-python",
   "name": "python",
   "nbconvert_exporter": "python",
   "pygments_lexer": "ipython2",
   "version": "2.7.6"
  }
 },
 "nbformat": 4,
 "nbformat_minor": 0
}