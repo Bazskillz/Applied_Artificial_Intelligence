{
 "cells": [
  {
   "cell_type": "markdown",
   "source": [
    "# Math and statistics les 1 lineare algebra"
   ],
   "metadata": {
    "collapsed": false,
    "pycharm": {
     "name": "#%% md\n"
    }
   }
  },
  {
   "cell_type": "markdown",
   "source": [
    "#### Import libraries"
   ],
   "metadata": {
    "collapsed": false,
    "pycharm": {
     "name": "#%% md\n"
    }
   }
  },
  {
   "cell_type": "code",
   "execution_count": 29,
   "outputs": [],
   "source": [
    "import math\n",
    "import numpy as np\n"
   ],
   "metadata": {
    "collapsed": false,
    "pycharm": {
     "name": "#%%\n"
    }
   }
  },
  {
   "cell_type": "markdown",
   "metadata": {
    "collapsed": true,
    "pycharm": {
     "name": "#%% md\n"
    }
   },
   "source": [
    "Gegeven zijn 2 punten:\n",
    "\n",
    "• a (-3, 4)\n",
    "\n",
    "• b (-2 , -5)\n",
    "\n",
    "\n",
    "#### • Bereken de Manhattan afstand tussen deze 2 punten:\n",
    "\n",
    "#### • Bereken de Euclidian afstand tussen deze 2 punten:"
   ]
  },
  {
   "cell_type": "code",
   "execution_count": 30,
   "outputs": [
    {
     "name": "stdout",
     "output_type": "stream",
     "text": [
      "manhattan distance : 10\n",
      "euclidean distance : 9.055385138137417\n"
     ]
    }
   ],
   "source": [
    "def manhattan_distance(a, b):\n",
    "    \"\"\"\n",
    "    Calculate and print the manhattan distance\n",
    "    :param a: Vector A\n",
    "    :param b: Vector B\n",
    "    \"\"\"\n",
    "\n",
    "    distance = sum(abs(var1-var2) for var1, var2 in zip(a, b))\n",
    "    print(\"manhattan distance : {}\".format(distance))\n",
    "\n",
    "\n",
    "def euclidean_distance(x, y):\n",
    "    \"\"\"\n",
    "    Calculate Euclidean distance\n",
    "    :param x: Vector x\n",
    "    :param y: Vector y\n",
    "    \"\"\"\n",
    "\n",
    "    distance = math.sqrt(sum([(a - b) ** 2 for a, b in zip(x, y)]))\n",
    "    print(\"euclidean distance : {}\".format(distance))\n",
    "\n",
    "\n",
    "\n",
    "manhattan_distance((-3, 4), (-2, -5))\n",
    "\n",
    "euclidean_distance((-3, 4), (-2, -5))\n"
   ],
   "metadata": {
    "collapsed": false,
    "pycharm": {
     "name": "#%%\n"
    }
   }
  },
  {
   "cell_type": "markdown",
   "source": [
    "#### Tel de vectoren a en b bij elkaar op a = [5, 3] en b = [2, 3]\n",
    "\n",
    "#### Tel de vectoren a en b bij elkaar op a = [2, 3, 4] en b = [2, 1, 1]\n",
    "\n",
    "#### Trek de vectoren a en b bij van elkaar af a = [8, 4] b = [1, 2]\n",
    "\n"
   ],
   "metadata": {
    "collapsed": false,
    "pycharm": {
     "name": "#%% md\n"
    }
   }
  },
  {
   "cell_type": "code",
   "execution_count": 31,
   "outputs": [
    {
     "name": "stdout",
     "output_type": "stream",
     "text": [
      "Vector (addition) : [7 6]\n",
      "Vector (addition) : [4 4 5]\n",
      "Vector (subtraction) : [7 2]\n"
     ]
    }
   ],
   "source": [
    "def vector_addition(array_1, array_2):\n",
    "    \"\"\"\n",
    "    Calculate and print the sum of two vectors\n",
    "    :param array_1:\n",
    "    :param array_2:\n",
    "    \"\"\"\n",
    "\n",
    "    vec_sum = array_1.__add__(array_2)\n",
    "    print(\"Vector (addition) : {}\".format(vec_sum))\n",
    "\n",
    "\n",
    "def vector_subtraction(array_1, array_2):\n",
    "    \"\"\"\n",
    "    Calculate and print subtraction of two vectors\n",
    "    :param array_1:\n",
    "    :param array_2:\n",
    "    \"\"\"\n",
    "\n",
    "    subtr = array_1.__sub__(array_2)\n",
    "    print(\"Vector (subtraction) : {}\".format(subtr))\n",
    "\n",
    "vector_addition(np.array([5, 3]), np.array([2, 3]))\n",
    "\n",
    "vector_addition(np.array([2, 3, 4]), np.array([2, 1, 1]))\n",
    "\n",
    "vector_subtraction(np.array([8, 4]), np.array([1, 2]))\n",
    "\n"
   ],
   "metadata": {
    "collapsed": false,
    "pycharm": {
     "name": "#%%\n"
    }
   }
  },
  {
   "cell_type": "markdown",
   "source": [
    "#### Vermenigvuldig de vectoren a en b, a = en b =\n",
    "\n",
    "#### Vermenigvuldig a en b, a = 2 en b"
   ],
   "metadata": {
    "collapsed": false
   }
  },
  {
   "cell_type": "code",
   "source": [
    "def vector_addition(array_1, array_2):\n",
    "    \"\"\"\n",
    "    Calculate and print the multiplication of two vectors\n",
    "    :param array_1:\n",
    "    :param array_2:\n",
    "    \"\"\"\n",
    "\n",
    "    vec_sum = array_1.__mul__(array_2)\n",
    "    print(\"Vector (multiply) : {}\".format(vec_sum))\n",
    "\n",
    "vector_addition(np.array([3, 3]), np.array([2, 3]))\n",
    "\n",
    "vector_addition(np.array([2]), np.array([2, 3]))"
   ],
   "metadata": {
    "collapsed": false,
    "pycharm": {
     "name": "#%%\n"
    }
   },
   "execution_count": 32,
   "outputs": [
    {
     "name": "stdout",
     "output_type": "stream",
     "text": [
      "Vector (multiply) : [6 9]\n",
      "Vector (multiply) : [4 6]\n"
     ]
    }
   ]
  },
  {
   "cell_type": "markdown",
   "source": [
    "#### Bepaal het inproduct van de vectoren a en b, a =  [2, 4] en b [5, 2]"
   ],
   "metadata": {
    "collapsed": false
   }
  },
  {
   "cell_type": "code",
   "execution_count": 33,
   "outputs": [
    {
     "name": "stdout",
     "output_type": "stream",
     "text": [
      "Inproduct : 18\n"
     ]
    }
   ],
   "source": [
    "def dot_product(a, b):\n",
    "    \"\"\"\n",
    "    Calculate and print inproduct of two vectors\n",
    "    :param a: vector A\n",
    "    :param b: vector B\n",
    "    \"\"\"\n",
    "\n",
    "    product = a @ b\n",
    "    print(\"Inproduct : {}\".format(product))\n",
    "\n",
    "\n",
    "dot_product(np.array([2, 4]), np.array([5, 2]))"
   ],
   "metadata": {
    "collapsed": false,
    "pycharm": {
     "name": "#%%"
    }
   }
  },
  {
   "cell_type": "markdown",
   "source": [
    "#### Tel de matricen\n",
    "\n",
    "A = [[12, 7, 3],\n",
    "     [4, 5, 6],\n",
    "     [7, 8, 9]]\n",
    "\n",
    "en B = [[5, 8, 1],\n",
    "        [6, 7, 3],\n",
    "        [4, 5, 9]],\n",
    "#### bij elkaar op\n",
    "\n",
    "#### Trek de matricen A en B van elkaar af\n",
    "\n",
    "A=[ [5, 2],\n",
    "    [2, 4],\n",
    "    [4, 4]],\n",
    "\n",
    "B=[ [2, 2],\n",
    "    [1, 2],\n",
    "    [3, 3]],\n",
    "\n",
    "#### Bepaal C = A ∘ B,(Hadamarproduct) met\n",
    "\n",
    "A = [[1, 3],\n",
    "     [1, 4],\n",
    "     [2, 2]],\n",
    "\n",
    "B =[[2, 1],\n",
    "    [2, 3],\n",
    "    [4, 2]],"
   ],
   "metadata": {
    "collapsed": false,
    "pycharm": {
     "name": "#%% md\n"
    }
   }
  },
  {
   "cell_type": "code",
   "execution_count": 34,
   "outputs": [
    {
     "name": "stdout",
     "output_type": "stream",
     "text": [
      "Matrice addition : \n",
      "[17, 15, 4]\n",
      "[10, 12, 9]\n",
      "[11, 13, 18]\n",
      "Matrice subtraction : \n",
      "[3, 0]\n",
      "[1, 2]\n",
      "[1, 1]\n",
      "Matrice Hadamarproduct : \n",
      "[2, 3]\n",
      "[2, 12]\n",
      "[8, 4]\n"
     ]
    }
   ],
   "source": [
    "def hadamarproduct(x, y, form):\n",
    "    \"\"\"\n",
    "    Perform hadamarproduct on x and y, print result.\n",
    "    :param x: x matrice\n",
    "    :param y: y matrice\n",
    "    :param form: format of the matrix\n",
    "    :return:\n",
    "    \"\"\"\n",
    "\n",
    "    for i in range(len(x)):\n",
    "        for j in range(len(x[0])):\n",
    "            form[i][j] = x[i][j] * y[i][j]\n",
    "\n",
    "    print(\"Matrice Hadamarproduct : \")\n",
    "    for r in form:\n",
    "        print(r)\n",
    "\n",
    "\n",
    "def matrice_subtraction(x, y, form):\n",
    "    \"\"\"\n",
    "    Perform matrice subtraction on x and y, print result.\n",
    "    :param x: x matrice\n",
    "    :param y: y matrice\n",
    "    :param form: format of the matrix\n",
    "    :return:\n",
    "    \"\"\"\n",
    "\n",
    "    for i in range(len(x)):\n",
    "        for j in range(len(x[0])):\n",
    "            form[i][j] = x[i][j] - y[i][j]\n",
    "\n",
    "    print(\"Matrice subtraction : \")\n",
    "    for r in form:\n",
    "        print(r)\n",
    "\n",
    "\n",
    "def matrice_addition(x, y, form):\n",
    "    \"\"\"\n",
    "    Perform matrice addition on x and y, print result.\n",
    "    :param x: x matrice\n",
    "    :param y: y matrice\n",
    "    :param form: format of the matrix\n",
    "    :return:\n",
    "    \"\"\"\n",
    "\n",
    "    for i in range(len(x)):\n",
    "        for j in range(len(x[0])):\n",
    "            form[i][j] = x[i][j] + y[i][j]\n",
    "\n",
    "    print(\"Matrice addition : \")\n",
    "    for r in form:\n",
    "        print(r)\n",
    "\n",
    "\n",
    "matrice_addition(x=[[12, 7, 3],\n",
    "                    [4, 5, 6],\n",
    "                    [7, 8, 9]],\n",
    "                 y=[[5, 8, 1],\n",
    "                    [6, 7, 3],\n",
    "                    [4, 5, 9]],\n",
    "                 form=[[0, 0, 0],\n",
    "                       [0, 0, 0],\n",
    "                       [0, 0, 0]])\n",
    "\n",
    "matrice_subtraction(x=[[5, 2],\n",
    "                       [2, 4],\n",
    "                       [4, 4]],\n",
    "                    y=[[2, 2],\n",
    "                       [1, 2],\n",
    "                       [3, 3]],\n",
    "                    form=[[0, 0],\n",
    "                          [0, 0],\n",
    "                          [0, 0]])\n",
    "\n",
    "hadamarproduct(x=[[1, 3],\n",
    "                  [1, 4],\n",
    "                  [2, 2]],\n",
    "               y=[[2, 1],\n",
    "                  [2, 3],\n",
    "                  [4, 2]],\n",
    "               form=[[0, 0],\n",
    "                     [0, 0],\n",
    "                     [0, 0]])"
   ],
   "metadata": {
    "collapsed": false,
    "pycharm": {
     "name": "#%%\n"
    }
   }
  }
 ],
 "metadata": {
  "kernelspec": {
   "display_name": "Python 3",
   "language": "python",
   "name": "python3"
  },
  "language_info": {
   "codemirror_mode": {
    "name": "ipython",
    "version": 2
   },
   "file_extension": ".py",
   "mimetype": "text/x-python",
   "name": "python",
   "nbconvert_exporter": "python",
   "pygments_lexer": "ipython2",
   "version": "2.7.6"
  }
 },
 "nbformat": 4,
 "nbformat_minor": 0
}