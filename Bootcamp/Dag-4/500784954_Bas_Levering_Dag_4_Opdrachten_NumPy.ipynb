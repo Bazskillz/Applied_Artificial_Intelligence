{
 "cells": [
  {
   "cell_type": "markdown",
   "source": [
    "# Uitwerkingen Bas Levering"
   ],
   "metadata": {
    "collapsed": false
   }
  },
  {
   "cell_type": "markdown",
   "metadata": {
    "id": "Nn4Qzgx-2m9Y"
   },
   "source": [
    "# Python versus Numpy\n",
    "\n",
    "### Stijn Oomes\n",
    "\n",
    "donderdag 9 september 2021\n",
    "\n",
    "---\n",
    " \n",
    "**Python Data Science Handbook**\n",
    "\n",
    "Chapter 2. Introduction to NumPy\n",
    "\n",
    "https://learning.oreilly.com/library/view/python-data-science/9781491912126/ch02.html#introduction-to-numpy"
   ]
  },
  {
   "cell_type": "markdown",
   "metadata": {
    "id": "QFTVWQPu1fAf"
   },
   "source": [
    "## Importeer libraries"
   ]
  },
  {
   "cell_type": "markdown",
   "metadata": {
    "id": "AuuPF_Q43f90"
   },
   "source": [
    "Controleer welke version van Python in dit notebook wordt gerund."
   ]
  },
  {
   "cell_type": "code",
   "execution_count": 16,
   "metadata": {
    "colab": {
     "base_uri": "https://localhost:8080/"
    },
    "id": "34e1blkU1jVf",
    "outputId": "f75ca1a0-1c29-4c45-8f67-2a2c8f3c7c5f"
   },
   "outputs": [
    {
     "name": "stdout",
     "output_type": "stream",
     "text": [
      "3.9.7\n"
     ]
    }
   ],
   "source": [
    "from platform import python_version\n",
    "\n",
    "print(python_version())"
   ]
  },
  {
   "cell_type": "markdown",
   "metadata": {
    "id": "pIhpnHi_4Laf"
   },
   "source": [
    "Importeer Numpy en OpenCV en controleer welke versie worden gerund."
   ]
  },
  {
   "cell_type": "code",
   "execution_count": 17,
   "metadata": {
    "colab": {
     "base_uri": "https://localhost:8080/",
     "height": 35
    },
    "id": "6E1LpQe11u24",
    "outputId": "4a87d865-1292-4bd0-d5c9-6f3e0a8adcf9"
   },
   "outputs": [
    {
     "name": "stdout",
     "output_type": "stream",
     "text": [
      "1.19.5\n"
     ]
    }
   ],
   "source": [
    "import numpy as np\n",
    "print(np.__version__)"
   ]
  },
  {
   "cell_type": "code",
   "execution_count": 18,
   "metadata": {
    "colab": {
     "base_uri": "https://localhost:8080/",
     "height": 35
    },
    "id": "cDXGHao61zWn",
    "outputId": "526fc409-7a5a-4a8f-a63c-0010ab628068"
   },
   "outputs": [
    {
     "name": "stdout",
     "output_type": "stream",
     "text": [
      "4.5.3\n"
     ]
    }
   ],
   "source": [
    "import cv2 as cv # Je ziet dat ik efficient ben en liever niet elke keer de '2' achter 'cv' wil typen.\n",
    "print(cv.__version__)"
   ]
  },
  {
   "cell_type": "markdown",
   "metadata": {
    "id": "TyJ5LW-S64zm"
   },
   "source": [
    "Ik check ook meteen even de versies van Scikit-Learn, TensorFlow, en Keras. Deze libraries gaan we volgende week gebruiken."
   ]
  },
  {
   "cell_type": "code",
   "execution_count": 19,
   "metadata": {
    "colab": {
     "base_uri": "https://localhost:8080/",
     "height": 35
    },
    "id": "687_2sjo7Ey-",
    "outputId": "12d52e5f-e589-497b-926d-513dcb635d1d"
   },
   "outputs": [
    {
     "name": "stdout",
     "output_type": "stream",
     "text": [
      "0.24.2\n"
     ]
    }
   ],
   "source": [
    "import sklearn as sk\n",
    "print(sk.__version__)"
   ]
  },
  {
   "cell_type": "code",
   "execution_count": 20,
   "metadata": {
    "colab": {
     "base_uri": "https://localhost:8080/",
     "height": 35
    },
    "id": "tFBiuEiO12jj",
    "outputId": "6a6cc585-a38f-4ffc-bc4c-f92ab98b0e22"
   },
   "outputs": [
    {
     "name": "stdout",
     "output_type": "stream",
     "text": [
      "2.6.0\n"
     ]
    }
   ],
   "source": [
    "import tensorflow as tf\n",
    "print(tf.__version__)"
   ]
  },
  {
   "cell_type": "code",
   "execution_count": 21,
   "metadata": {
    "colab": {
     "base_uri": "https://localhost:8080/",
     "height": 35
    },
    "id": "xlfjAAVJ15Ce",
    "outputId": "31aaf7d1-624e-4374-eebd-fdb8481e6dd6"
   },
   "outputs": [
    {
     "name": "stdout",
     "output_type": "stream",
     "text": [
      "2.6.0\n"
     ]
    }
   ],
   "source": [
    "import keras as ks\n",
    "print(ks.__version__)"
   ]
  },
  {
   "cell_type": "markdown",
   "metadata": {
    "id": "vxmGsI5J1qqn"
   },
   "source": [
    "## Definieer een parameter"
   ]
  },
  {
   "cell_type": "markdown",
   "metadata": {
    "id": "W10S21jl8NBl"
   },
   "source": [
    "Definieer een parameter n en geef het voorlopig even een relatief kleine waarde, bijvoorbeeld 4.\n",
    "\n",
    "We beginnen de test met een datastructuur met weinig elementen. Daarna mag je die waarde zo groot maken als je computer aan kan."
   ]
  },
  {
   "cell_type": "code",
   "execution_count": 22,
   "metadata": {
    "id": "lJa6RHyKIc18"
   },
   "outputs": [],
   "source": [
    "num = 4"
   ]
  },
  {
   "cell_type": "markdown",
   "metadata": {
    "id": "RlRD_h2K8ep6"
   },
   "source": [
    "## Meet hoeveel geheugen wordt gebruikt"
   ]
  },
  {
   "cell_type": "markdown",
   "metadata": {
    "id": "Ws-WGiKV8qaz"
   },
   "source": [
    "Hoe kunnen we zien hoeveel geheugen een datastructuur inneemt?\n",
    "\n",
    "Definieer een lijst in Python met `n` elementen met een random waarde.\n",
    "\n",
    "Hint: `import random`"
   ]
  },
  {
   "cell_type": "code",
   "execution_count": 23,
   "metadata": {
    "colab": {
     "base_uri": "https://localhost:8080/"
    },
    "id": "fq6OZosi9xuu",
    "outputId": "7c79bba1-34b7-4a73-8369-840ee22cb7cd"
   },
   "outputs": [
    {
     "name": "stdout",
     "output_type": "stream",
     "text": [
      "[0.5869595004652224, 0.5892558212615776, 0.46247909188573233, 0.3573657836593158]\n"
     ]
    }
   ],
   "source": [
    "from random import random\n",
    "\n",
    "a_list = []\n",
    "for i in range (num):\n",
    "    f = random()\n",
    "    a_list.append(f)\n",
    "\n",
    "print(a_list)"
   ]
  },
  {
   "cell_type": "markdown",
   "metadata": {
    "id": "h_Se7xe_Aqp0"
   },
   "source": [
    "\n",
    "Kijk daarna hoeveel bytes deze lijst in het geheugen inneemt.\n",
    "\n",
    "Hint: `import sys`"
   ]
  },
  {
   "cell_type": "code",
   "execution_count": 24,
   "metadata": {
    "colab": {
     "base_uri": "https://localhost:8080/"
    },
    "id": "AD5-VV1s-7ER",
    "outputId": "58f9dc14-ee3f-42f0-c1b6-c2cefaac4e56"
   },
   "outputs": [
    {
     "data": {
      "text/plain": "88"
     },
     "execution_count": 24,
     "metadata": {},
     "output_type": "execute_result"
    }
   ],
   "source": [
    "import sys\n",
    "sys.getsizeof(a_list)"
   ]
  },
  {
   "cell_type": "markdown",
   "metadata": {
    "id": "5wObavLdAUSa"
   },
   "source": [
    "Kijk ook hoeveel één element van deze lijst in het geheugen inneemt."
   ]
  },
  {
   "cell_type": "code",
   "execution_count": 25,
   "metadata": {
    "colab": {
     "base_uri": "https://localhost:8080/"
    },
    "id": "wjod3XRw_Xqn",
    "outputId": "ddaa10ec-8a20-4212-9743-a4eedc0e7961"
   },
   "outputs": [
    {
     "data": {
      "text/plain": "24"
     },
     "execution_count": 25,
     "metadata": {},
     "output_type": "execute_result"
    }
   ],
   "source": [
    "sys.getsizeof(a_list[0])\n"
   ]
  },
  {
   "cell_type": "markdown",
   "metadata": {
    "id": "9CaosQyD2GPK"
   },
   "source": [
    "Experimenteer eens met de grootte van andere datatypes. \n",
    "\n",
    "Hoeveel geheugen neemt een Boolean in? Verbaast je dat?"
   ]
  },
  {
   "cell_type": "code",
   "execution_count": 26,
   "metadata": {
    "colab": {
     "base_uri": "https://localhost:8080/"
    },
    "id": "4Uy3GWaphNYv",
    "outputId": "3ec9ea77-40da-45db-fb57-d617824533ae"
   },
   "outputs": [
    {
     "data": {
      "text/plain": "28"
     },
     "execution_count": 26,
     "metadata": {},
     "output_type": "execute_result"
    }
   ],
   "source": [
    "p = True\n",
    "sys.getsizeof(p)"
   ]
  },
  {
   "cell_type": "code",
   "execution_count": 27,
   "metadata": {},
   "outputs": [
    {
     "data": {
      "text/plain": "24"
     },
     "execution_count": 27,
     "metadata": {},
     "output_type": "execute_result"
    }
   ],
   "source": [
    "p = False\n",
    "sys.getsizeof(p)"
   ]
  },
  {
   "cell_type": "markdown",
   "metadata": {
    "id": "forC9GEBC7CC"
   },
   "source": [
    "## Meet hoe lang een berekening duurt"
   ]
  },
  {
   "cell_type": "markdown",
   "metadata": {
    "id": "ynDy0tphDAv4"
   },
   "source": [
    "Hoe lang duurt het om bijvoorbeeld alle getallen in onze lijst op te tellen?"
   ]
  },
  {
   "cell_type": "code",
   "execution_count": 28,
   "metadata": {
    "colab": {
     "base_uri": "https://localhost:8080/"
    },
    "id": "RvSDJUxqC6uC",
    "outputId": "a51b9295-ff00-4360-ad64-6caac53d4834"
   },
   "outputs": [
    {
     "data": {
      "text/plain": "1.9960601972718481"
     },
     "execution_count": 28,
     "metadata": {},
     "output_type": "execute_result"
    }
   ],
   "source": [
    "sum(a_list)"
   ]
  },
  {
   "cell_type": "markdown",
   "metadata": {
    "id": "JWE3vFZpDNpT"
   },
   "source": [
    "Meet de starttijd, voer de sommatie uit, meet de eindtijd. Bepaal het verschil tusen eindtijd en begintijd. \n",
    "\n",
    "In welke eenheid wordt de tijd gemeten?\n",
    "\n",
    "\n",
    "Hint: `import time`"
   ]
  },
  {
   "cell_type": "code",
   "execution_count": 29,
   "metadata": {
    "colab": {
     "base_uri": "https://localhost:8080/"
    },
    "id": "jedyLrvED20O",
    "outputId": "95bd2d78-2087-4d8f-dff1-6280395ac3c4"
   },
   "outputs": [
    {
     "name": "stdout",
     "output_type": "stream",
     "text": [
      "0.00017642974853515625\n"
     ]
    }
   ],
   "source": [
    "import time\n",
    "\n",
    "start = time.time() # Start the timing\n",
    "sum(a_list)\n",
    "end = time.time() # Stop the timing\n",
    "\n",
    "print(end-start)"
   ]
  },
  {
   "cell_type": "markdown",
   "metadata": {
    "id": "ZakyZzozJpC8"
   },
   "source": [
    "## Python list"
   ]
  },
  {
   "cell_type": "markdown",
   "metadata": {
    "id": "V3hOvXpt2tGW"
   },
   "source": [
    "Maak twee Python lists van lengte n. Vermenigvuldig die twee lists elementsgewijs. Tel vervolgens alle getallen bij elkaar op.\n",
    "\n",
    "Bepaal hoeveel bytes de Python list in neemt.\n",
    "\n",
    "Meet ook hoe lang deze berekeningen duren. Let op je parameter n is nu nog klein."
   ]
  },
  {
   "cell_type": "code",
   "execution_count": 30,
   "metadata": {
    "colab": {
     "base_uri": "https://localhost:8080/"
    },
    "id": "klxdgEJrKscp",
    "outputId": "65d4e670-2403-4ede-84bd-23d15f0848c0"
   },
   "outputs": [
    {
     "name": "stdout",
     "output_type": "stream",
     "text": [
      "936 ns ± 21.3 ns per loop (mean ± std. dev. of 7 runs, 1000000 loops each)\n"
     ]
    }
   ],
   "source": [
    "%%timeit \n",
    "a_list = [random() for i in range(0, num)]\n",
    "sum(a_list)"
   ]
  },
  {
   "cell_type": "markdown",
   "metadata": {
    "id": "hy31aEn3Jsw0"
   },
   "source": [
    "## NumPy array"
   ]
  },
  {
   "cell_type": "markdown",
   "metadata": {
    "id": "KFj6xMSn3Ozs"
   },
   "source": [
    "Maak twee NumPy arrays van lengte n. Vermenigvuldig de twee arrays elementsgewijs. Tel vervolgens alle getallen bij elkaar op.\n",
    "\n",
    "Bepaal hoeveel bytes de NumPy array in neemt.\n",
    "\n",
    "Meet hoe lang deze berekeningen duren. Let op je parameter n is nu nog klein."
   ]
  },
  {
   "cell_type": "code",
   "execution_count": 31,
   "metadata": {
    "colab": {
     "base_uri": "https://localhost:8080/"
    },
    "id": "EGNyDT93KTRj",
    "outputId": "32689d33-2635-4be5-88b1-5180ab0cc843"
   },
   "outputs": [
    {
     "name": "stdout",
     "output_type": "stream",
     "text": [
      "21.8 µs ± 211 ns per loop (mean ± std. dev. of 7 runs, 10000 loops each)\n"
     ]
    }
   ],
   "source": [
    "%%timeit \n",
    "array = np.random.randint(255,size=num)\n",
    "array.sum()"
   ]
  },
  {
   "cell_type": "markdown",
   "metadata": {
    "id": "kt25l3SH1oS_"
   },
   "source": [
    "## Vergelijking Python list versus NumPy array"
   ]
  },
  {
   "cell_type": "markdown",
   "metadata": {
    "id": "uvnfhHXX3fmQ"
   },
   "source": [
    "Kijk nu voor verschillende waardes van de parameter n hoe lang de berekeningen duren.\n",
    "\n",
    "Bereken voor elke n de tijd voor de Python berekening gedeeld door de NumPy bereking.\n",
    "\n",
    "Kies als verschillende n waardes bijvoorbeeld 4, 8, 16, 32, 64, 128, 256, 1024.\n",
    "\n",
    "Een grafiek zou hier heel handig zijn!"
   ]
  },
  {
   "cell_type": "code",
   "execution_count": 32,
   "metadata": {},
   "outputs": [
    {
     "data": {
      "text/plain": "[<matplotlib.lines.Line2D at 0x7f6bb3e4ea90>]"
     },
     "execution_count": 32,
     "metadata": {},
     "output_type": "execute_result"
    },
    {
     "data": {
      "text/plain": "<Figure size 432x288 with 1 Axes>",
      "image/png": "[encoded data removed]"
     },
     "metadata": {
      "needs_background": "light"
     },
     "output_type": "display_data"
    }
   ],
   "source": [
    "import matplotlib.pyplot as plt\n",
    "from timeit import default_timer as timer\n",
    "num = 4\n",
    "timings_python_list = {}\n",
    "timings_numpy_array = {}\n",
    "\n",
    "while num <= 1_048_576*4:\n",
    "    python_list = [random() for i in range(0, num)]\n",
    "    numpy_array = np.random.randint(255, size=num)\n",
    "\n",
    "    start = timer()  # Time python list sum.\n",
    "    sum(python_list)\n",
    "    end = timer()\n",
    "    timings_python_list[num] = (end-start)\n",
    "\n",
    "    start = timer()  # Time numpy array sum.\n",
    "    numpy_array.sum()\n",
    "    end = timer()\n",
    "    timings_numpy_array[num] = (end-start)\n",
    "\n",
    "    num *= 2\n",
    "\n",
    "plt.plot(timings_python_list.keys(), timings_python_list.values())\n",
    "plt.plot(timings_numpy_array.keys(), timings_numpy_array.values(),'r')\n"
   ]
  },
  {
   "cell_type": "markdown",
   "source": [
    "## Reflectie\n",
    "Je kunt zien dat Numpy arrays minder ruimte in beslag nemen dan python lists, ook heb je veel relevante\n",
    "ingebouwde functies.\n"
   ],
   "metadata": {
    "collapsed": false,
    "pycharm": {
     "name": "#%% md\n"
    }
   }
  }
 ],
 "metadata": {
  "accelerator": "GPU",
  "colab": {
   "collapsed_sections": [],
   "name": "2021_02_04_NumPy_uitwerking.ipynb",
   "provenance": []
  },
  "kernelspec": {
   "display_name": "Python 3 (ipykernel)",
   "language": "python",
   "name": "python3"
  },
  "language_info": {
   "codemirror_mode": {
    "name": "ipython",
    "version": 3
   },
   "file_extension": ".py",
   "mimetype": "text/x-python",
   "name": "python",
   "nbconvert_exporter": "python",
   "pygments_lexer": "ipython3",
   "version": "3.8.5"
  }
 },
 "nbformat": 4,
 "nbformat_minor": 1
}