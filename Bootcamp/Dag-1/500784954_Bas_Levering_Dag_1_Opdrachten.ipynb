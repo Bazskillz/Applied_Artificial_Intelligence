{
 "cells": [
  {
   "cell_type": "markdown",
   "metadata": {
    "collapsed": true,
    "pycharm": {
     "name": "#%% md\n"
    }
   },
   "source": [
    "# Dag 1 python opdrachten Bas Levering (500784954)"
   ]
  },
  {
   "cell_type": "markdown",
   "source": [
    "### Hello World"
   ],
   "metadata": {
    "collapsed": false,
    "pycharm": {
     "name": "#%% md\n"
    }
   }
  },
  {
   "cell_type": "code",
   "execution_count": 1,
   "outputs": [],
   "source": [
    "def print_text(text):\n",
    "    \"\"\"\n",
    "    prints the supplied variable\n",
    "    :param text:\n",
    "    \"\"\"\n",
    "    print(text)\n",
    "\n",
    "\n",
    "def try_print(var):\n",
    "    \"\"\"\n",
    "    prints the supplied variable, will catch TypeError\n",
    "    :param var:\n",
    "    \"\"\"\n",
    "    try:\n",
    "        print(var)\n",
    "    except TypeError:\n",
    "        print(\"I was not able to print that variable :(\")\n",
    "\n",
    "\n",
    "def print_hello_world():\n",
    "    \"\"\"\n",
    "    print hello world\n",
    "    \"\"\"\n",
    "    print(\"hello world\")\n",
    "\n",
    "\n",
    "def return_hello_world():\n",
    "    \"\"\"\n",
    "    returns the string hello world\n",
    "    :return: \"hello world\"\n",
    "    \"\"\"\n",
    "    return \"hello world\""
   ],
   "metadata": {
    "collapsed": false,
    "pycharm": {
     "name": "#%%\n"
    }
   }
  },
  {
   "cell_type": "markdown",
   "source": [
    "#### Execute hello world"
   ],
   "metadata": {
    "collapsed": false,
    "pycharm": {
     "name": "#%% md\n"
    }
   }
  },
  {
   "cell_type": "code",
   "execution_count": 2,
   "outputs": [],
   "source": [
    "def hello_world():\n",
    "    \"\"\"\n",
    "    Executes the first exercise\n",
    "    \"\"\"\n",
    "    print(\"hello World\")\n",
    "\n",
    "    hw = \"hello world\"\n",
    "\n",
    "    print(hw)\n",
    "\n",
    "    print(hw[2])\n",
    "\n",
    "    print(hw[0:5])\n",
    "\n",
    "    print(hw[len(hw) - 1])\n",
    "\n",
    "    print_hello_world()\n",
    "\n",
    "    hw_2 = return_hello_world()\n",
    "\n",
    "    print(hw_2)\n",
    "\n",
    "    try_print(hw_2)"
   ],
   "metadata": {
    "collapsed": false,
    "pycharm": {
     "name": "#%%\n"
    }
   }
  },
  {
   "cell_type": "markdown",
   "source": [
    "### Sommetjes en lijstjes"
   ],
   "metadata": {
    "collapsed": false,
    "pycharm": {
     "name": "#%% md\n"
    }
   }
  },
  {
   "cell_type": "code",
   "execution_count": 3,
   "outputs": [],
   "source": [
    "def sommetjes_en_lijstjes():\n",
    "    \"\"\"\n",
    "    Create lists using range() and calculating sigma using sum()\n",
    "    \"\"\"\n",
    "    addition = 1+1\n",
    "    print(addition)\n",
    "\n",
    "    a, b = [], []\n",
    "\n",
    "    a.extend(range(1, 10+1))\n",
    "    b.extend(range(11, 15 + 1))\n",
    "\n",
    "    print(a)\n",
    "    print(b)\n",
    "    a.extend(b)\n",
    "\n",
    "    print(a)\n",
    "\n",
    "    c = [x+5 for x in a]\n",
    "\n",
    "    print(c)\n",
    "\n",
    "    print(sum(c))\n",
    "\n",
    "    one_to_hundred = []\n",
    "    one_to_hundred.extend(range(1, 100 + 1))\n",
    "    print(sum(one_to_hundred))"
   ],
   "metadata": {
    "collapsed": false,
    "pycharm": {
     "name": "#%%\n"
    }
   }
  },
  {
   "cell_type": "markdown",
   "source": [
    "### Meer functies en conditionals"
   ],
   "metadata": {
    "collapsed": false,
    "pycharm": {
     "name": "#%% md\n"
    }
   }
  },
  {
   "cell_type": "code",
   "execution_count": 4,
   "outputs": [
    {
     "name": "stdout",
     "output_type": "stream",
     "text": [
      "False\n",
      "True\n",
      "True\n",
      "False\n",
      "False\n",
      "True\n",
      "s\n",
      "s\n",
      "s\n",
      "s\n",
      "mis was not in Mississippi :( \n",
      "s\n",
      "s\n",
      "s\n",
      "s\n",
      "String one String two\n",
      "4\n",
      "4\n",
      "Integer one is now equal to 2 \n",
      "Integer two is now equal to 3\n",
      "Integer one is now equal to 3 \n",
      "Integer two is now equal to 3\n",
      "6.283185307179586\n"
     ]
    }
   ],
   "source": [
    "import math\n",
    "\n",
    "def string_concat(string_one, string_two):\n",
    "    if type(string_one) and type(string_two) == str:\n",
    "        print(string_one + string_two)\n",
    "\n",
    "\n",
    "def addition_greater_than(int_one, int_two):\n",
    "    if not int_one > int_two:\n",
    "        return int_one + int_two\n",
    "\n",
    "\n",
    "def addition_equal(int_one, int_two):\n",
    "    if int_one == int_two:\n",
    "        return int_one + int_two\n",
    "\n",
    "\n",
    "def addition_make_equal(int_one, int_two):\n",
    "    while int_one != int_two:\n",
    "        if int_one > int_two:\n",
    "            int_two += 1\n",
    "        else:\n",
    "            int_one += 1\n",
    "        print(\"Integer one is now equal to {} \\nInteger two is now equal to {}\".format(int_one, int_two))\n",
    "\n",
    "\n",
    "def print_pi_largest(int_one, int_two):\n",
    "    int_one *= math.pi\n",
    "    if int_one > int_two:\n",
    "        print(int_one)\n",
    "    else:\n",
    "        print(int_two)\n",
    "\n",
    "def meer_functies_en_conditionals():\n",
    "    \"\"\"\n",
    "    Some functions and conditionals\n",
    "    \"\"\"\n",
    "    print(5 == 6)\n",
    "    print(5 != 6)\n",
    "    print(5 < 6)\n",
    "    print(5 > 6)\n",
    "    print(5 >= 6)\n",
    "    print(5 <= 6)\n",
    "\n",
    "    for i in \"Mississippi\":\n",
    "        if \"s\" in i:\n",
    "            print(i)\n",
    "    if \"sip\" in i:\n",
    "        print(\"sip\")\n",
    "    if \"mis\" in 'Mississippi':\n",
    "        print(\"mis was in Mississippi\")\n",
    "    else:\n",
    "        print(\"mis was not in Mississippi :( \")\n",
    "\n",
    "    for i in \"Mississippi\":\n",
    "        if \"s\" in i:\n",
    "            print(i)\n",
    "\n",
    "    string_concat(\"String one\", \" String two\")\n",
    "\n",
    "    print(addition_greater_than(1, 3))\n",
    "\n",
    "    print(addition_equal(2, 2))\n",
    "\n",
    "    addition_make_equal(1, 3)\n",
    "\n",
    "    print_pi_largest(2, 3)\n",
    "\n",
    "meer_functies_en_conditionals()"
   ],
   "metadata": {
    "collapsed": false,
    "pycharm": {
     "name": "#%%\n"
    }
   }
  },
  {
   "cell_type": "markdown",
   "source": [
    "### Dictionaries and loops"
   ],
   "metadata": {
    "collapsed": false,
    "pycharm": {
     "name": "#%% md\n"
    }
   }
  },
  {
   "cell_type": "code",
   "execution_count": 5,
   "outputs": [
    {
     "name": "stdout",
     "output_type": "stream",
     "text": [
      "5\n",
      "a 1\n",
      "b 20\n",
      "c 5\n",
      "1\n",
      "20\n",
      "5\n",
      "a\n",
      "b\n",
      "c\n",
      "1\n",
      "5\n",
      "20\n",
      "{'t': 2, 'h': 2, 'e': 3, ' ': 8, 'q': 1, 'u': 2, 'i': 1, 'c': 1, 'k': 1, 'b': 1, 'r': 2, 'o': 4, 'w': 1, 'n': 1, 'f': 1, 'x': 1, 'j': 1, 'm': 1, 'p': 1, 's': 1, 'v': 1, 'l': 1, 'a': 1, 'z': 1, 'y': 1, 'd': 1, 'g': 1}\n"
     ]
    }
   ],
   "source": [
    "def dictionaries_and_loops():\n",
    "    \"\"\"\n",
    "    Dictionaries and loop exercise\n",
    "    \"\"\"\n",
    "    a = {'a': 1, 'b': 20}\n",
    "    a.update({'c': 5})\n",
    "\n",
    "    print(a['c'])\n",
    "\n",
    "    for k, v in a.items():\n",
    "        print(k, v)\n",
    "\n",
    "    for k, v in a.items():\n",
    "        print(v)\n",
    "\n",
    "    for k, v in sorted(a.items()):\n",
    "        print(k)\n",
    "\n",
    "    for k, v in sorted(a.items(), key=lambda item: item[1]):\n",
    "        print(v)\n",
    "\n",
    "    print(character_frequency(\"the quick brown fox jumps over the lazy dog\"))\n",
    "\n",
    "\n",
    "def character_frequency(string):\n",
    "    \"\"\"\n",
    "    Check the character frequency of a string.\n",
    "    :param string: String for checking character frequency\n",
    "    :return: dict with character frequency\n",
    "    \"\"\"\n",
    "    dictionary = {}\n",
    "    for n in string:\n",
    "        keys = dictionary.keys()\n",
    "        if n in keys:\n",
    "            dictionary[n] += 1\n",
    "        else:\n",
    "            dictionary[n] = 1\n",
    "    return dictionary\n",
    "\n",
    "dictionaries_and_loops()"
   ],
   "metadata": {
    "collapsed": false,
    "pycharm": {
     "name": "#%%\n"
    }
   }
  }
 ],
 "metadata": {
  "kernelspec": {
   "display_name": "Python 3",
   "language": "python",
   "name": "python3"
  },
  "language_info": {
   "codemirror_mode": {
    "name": "ipython",
    "version": 2
   },
   "file_extension": ".py",
   "mimetype": "text/x-python",
   "name": "python",
   "nbconvert_exporter": "python",
   "pygments_lexer": "ipython2",
   "version": "2.7.6"
  }
 },
 "nbformat": 4,
 "nbformat_minor": 0
}